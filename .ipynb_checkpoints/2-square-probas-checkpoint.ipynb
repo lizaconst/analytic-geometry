{
 "cells": [
  {
   "cell_type": "code",
   "execution_count": 1,
   "id": "ca8734ed",
   "metadata": {},
   "outputs": [],
   "source": [
    "from random import random, uniform\n",
    "from matplotlib import pyplot as plt\n",
    "import numpy as np\n",
    "import math"
   ]
  },
  {
   "cell_type": "markdown",
   "id": "6185e429",
   "metadata": {},
   "source": [
    "итерироваться по линии"
   ]
  },
  {
   "cell_type": "code",
   "execution_count": 2,
   "id": "7ff7111f",
   "metadata": {},
   "outputs": [],
   "source": [
    "def points_to_line(x1, y1, x2, y2):\n",
    "    if x1 != x2:\n",
    "        k = (y2-y1)/(x2-x1)\n",
    "        b = y1-k*x1\n",
    "    return k, b\n",
    "\n",
    "def intersect_line_map(k, b, n=10, n_line=100):\n",
    "    eps = 0.000001\n",
    "    map_2d_now = np.zeros((n, n))\n",
    "    '''\n",
    "    if k>0:\n",
    "        mini = -b/k\n",
    "        maxi = (n - b)/k\n",
    "    elif k<0:\n",
    "        mini = (n - b)/k\n",
    "        maxi = -b/k\n",
    "    '''\n",
    "    mini=0\n",
    "    maxi=n\n",
    "    x_iter = np.linspace(max(0, mini), min(maxi, n) - eps, n_line)\n",
    "    for x_n in x_iter:\n",
    "        y_n = k*x_n+b\n",
    "        if 0 <= y_n < n:\n",
    "            i, j = math.floor(x_n), math.floor(y_n)\n",
    "            map_2d_now[i][j] = 1\n",
    "    return map_2d_now\n",
    "\n"
   ]
  },
  {
   "cell_type": "code",
   "execution_count": 3,
   "id": "ea405510",
   "metadata": {},
   "outputs": [],
   "source": [
    "def make_2d_map(n=10, n_line=100, num_lines=100):\n",
    "    '''\n",
    "    Генерируем 2 случайные точки внутри квадрата\n",
    "    '''\n",
    "    map_2d = np.zeros((n, n))\n",
    "    for i in range(num_lines):\n",
    "        x1, y1, x2, y2 = uniform(0, n), uniform(0, n), uniform(0, n), uniform(0, n)\n",
    "        k, b = points_to_line(x1, y1, x2, y2)\n",
    "        map_2d += intersect_line_map(k, b, n, n_line)\n",
    "    print(\"std is \", np.std(map_2d))\n",
    "    return map_2d\n",
    "\n",
    "\n",
    "def make_2d_map_2(n=10, n_line=100, num_lines=100):\n",
    "    '''\n",
    "    Генерируем угол + 1 точку внутри квадрата\n",
    "    '''\n",
    "    map_2d = np.zeros((n, n))\n",
    "    for i in range(num_lines):\n",
    "        alpha = uniform(0, 2*np.pi)\n",
    "        k = math.tan(alpha)\n",
    "        x1, y1 = uniform(0, n), uniform(0, n)\n",
    "        b = y1 - k*x1\n",
    "        map_2d += intersect_line_map(k, b, n, n_line)\n",
    "    print(\"std is \", np.std(map_2d))\n",
    "    return map_2d\n",
    "\n",
    "def make_2d_map_3(n=10, n_line=100, num_lines=100):\n",
    "    '''\n",
    "    Генерируем угол + 1 точку внутри квадрата (-n, 2n)\n",
    "    '''\n",
    "    map_2d = np.zeros((n, n))\n",
    "    for i in range(num_lines):\n",
    "        alpha = uniform(0, 360)\n",
    "        k = math.tan(math.radians(alpha))\n",
    "        x1, y1 = uniform(-n, 2*n), uniform(-n, 2*n)\n",
    "        b = y1 - k*x1\n",
    "        map_2d += intersect_line_map(k, b, n, n_line)\n",
    "    print(\"std is \", np.std(map_2d))\n",
    "    return map_2d\n",
    "\n",
    "\n",
    "def make_2d_map_4(n=10, n_line=100, num_lines=100):\n",
    "    '''\n",
    "    Генерируем 2 случайные точки внутри квадрата (-n, 2n)\n",
    "    '''\n",
    "    map_2d = np.zeros((n, n))\n",
    "    for i in range(num_lines):\n",
    "        x1, y1, x2, y2 = uniform(-n, 2*n), uniform(-n, 2*n), uniform(-n, 2*n), uniform(-n, 2*n)\n",
    "        k, b = points_to_line(x1, y1, x2, y2)\n",
    "        map_2d += intersect_line_map(k, b, n, n_line)\n",
    "    print(\"std is \", np.std(map_2d))\n",
    "    return map_2d\n"
   ]
  },
  {
   "cell_type": "code",
   "execution_count": null,
   "id": "771e2fbf",
   "metadata": {},
   "outputs": [],
   "source": [
    "%%time\n",
    "plt.imshow(make_2d_map(n=100, n_line=1000, num_lines=100000))"
   ]
  },
  {
   "cell_type": "code",
   "execution_count": null,
   "id": "22cbac75",
   "metadata": {},
   "outputs": [],
   "source": [
    "%%time\n",
    "plt.imshow(make_2d_map(n=100, n_line=1000, num_lines=1000000))"
   ]
  },
  {
   "cell_type": "code",
   "execution_count": null,
   "id": "5a2c1c84",
   "metadata": {},
   "outputs": [],
   "source": [
    "%%time\n",
    "plt.imshow(make_2d_map_2(n=100, n_line=1000, num_lines=100000))"
   ]
  },
  {
   "cell_type": "code",
   "execution_count": null,
   "id": "342fdc4a",
   "metadata": {},
   "outputs": [],
   "source": [
    "%%time\n",
    "plt.imshow(make_2d_map_2(n=100, n_line=1000, num_lines=1000000))"
   ]
  },
  {
   "cell_type": "code",
   "execution_count": null,
   "id": "a0b56231",
   "metadata": {},
   "outputs": [],
   "source": [
    "%%time\n",
    "plt.imshow(make_2d_map_3(n=100, n_line=1000, num_lines=100000))"
   ]
  },
  {
   "cell_type": "code",
   "execution_count": null,
   "id": "d4fb3864",
   "metadata": {},
   "outputs": [],
   "source": [
    "%%time\n",
    "plt.imshow(make_2d_map_3(n=100, n_line=1000, num_lines=1000000))"
   ]
  },
  {
   "cell_type": "code",
   "execution_count": null,
   "id": "d13fa982",
   "metadata": {},
   "outputs": [],
   "source": [
    "%%time\n",
    "plt.imshow(make_2d_map_4(n=100, n_line=1000, num_lines=100000))"
   ]
  },
  {
   "cell_type": "code",
   "execution_count": null,
   "id": "0d1a47ea",
   "metadata": {},
   "outputs": [],
   "source": [
    "%%time\n",
    "plt.imshow(make_2d_map_4(n=100, n_line=1000, num_lines=1000000))"
   ]
  },
  {
   "cell_type": "code",
   "execution_count": null,
   "id": "c3fa60d4",
   "metadata": {},
   "outputs": [],
   "source": []
  }
 ],
 "metadata": {
  "kernelspec": {
   "display_name": "Python 3",
   "language": "python",
   "name": "python3"
  },
  "language_info": {
   "codemirror_mode": {
    "name": "ipython",
    "version": 3
   },
   "file_extension": ".py",
   "mimetype": "text/x-python",
   "name": "python",
   "nbconvert_exporter": "python",
   "pygments_lexer": "ipython3",
   "version": "3.8.8"
  }
 },
 "nbformat": 4,
 "nbformat_minor": 5
}
