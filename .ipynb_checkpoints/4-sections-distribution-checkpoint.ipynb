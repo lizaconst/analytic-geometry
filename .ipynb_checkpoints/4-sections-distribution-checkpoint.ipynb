{
 "cells": [
  {
   "cell_type": "code",
   "execution_count": 1,
   "id": "789ce0d7",
   "metadata": {},
   "outputs": [],
   "source": [
    "import numpy as np\n",
    "from random import random, uniform\n",
    "from matplotlib import pyplot as plt"
   ]
  },
  {
   "cell_type": "code",
   "execution_count": 2,
   "id": "00c9e046",
   "metadata": {},
   "outputs": [],
   "source": [
    "from calc import distance, intersection, parallel, angle, orthogonal\n",
    "from draw import draw\n",
    "from line import Line\n",
    "from plane import Plane\n",
    "from point import Point\n",
    "from solver import solve\n",
    "from vector import Vector\n",
    "\n",
    "__all__ = (\n",
    "    \"Line\",\n",
    "    \"Plane\",\n",
    "    \"Point\",\n",
    "    \"Vector\",\n",
    "    \"angle\",\n",
    "    \"distance\",\n",
    "    \"draw\",\n",
    "    \"intersection\",\n",
    "    \"orthogonal\",\n",
    "    \"parallel\",\n",
    "    \"solve\",\n",
    ")"
   ]
  },
  {
   "cell_type": "code",
   "execution_count": 3,
   "id": "d81256fd",
   "metadata": {},
   "outputs": [],
   "source": [
    "def get_angles(points):\n",
    "    # вычисление угла\n",
    "    cnt = points\n",
    "    num_points = len(cnt)\n",
    "    angles = []\n",
    "    for i, point in enumerate(cnt):\n",
    "        point1 = cnt[i - 1]\n",
    "        point2 = cnt[i]\n",
    "        point3 = cnt[(i + 1) % num_points]\n",
    "        angles.append(int(Vector(point2, point1).angle(Vector(point2, point3))* 180 / np.pi))\n",
    "\n",
    "    return np.array(angles)"
   ]
  },
  {
   "cell_type": "code",
   "execution_count": 4,
   "id": "51e6c726",
   "metadata": {},
   "outputs": [],
   "source": [
    "class Cube():\n",
    "    #куб с вершиной А в нуле координат и заданной длиной ребра, находится в первой полуплоскости для каждй пары осей\n",
    "    def __init__(self, side=1, center=Point(0.5, 0.5, 0.5)):\n",
    "        \n",
    "        \n",
    "        self.side = side\n",
    "        self.center = center\n",
    "        a = side\n",
    "        \n",
    "        vec = Point(center - Point(side/2, side/2, side/2))\n",
    "        \n",
    "        self.A = Point(0, 0, 0) + vec\n",
    "        self.B = Point(a, 0, 0) + vec\n",
    "        self.C = Point(a, a, 0) + vec\n",
    "        self.D = Point(0, a, 0) + vec\n",
    "        self.E = Point(0, 0, a) + vec\n",
    "        self.F = Point(a, 0, a) + vec\n",
    "        self.G = Point(a, a, a) + vec\n",
    "        self.H = Point(0, a, a) + vec\n",
    "        \n",
    "        self.iterable_points = [self.A, self.B, self.C, self.D, self.E, self.F, self.G, self.H]\n",
    "        self.names = ['A', 'B', 'C', 'D', 'E', 'F', 'G', 'H']\n",
    "        \n",
    "        self.AB = Line(self.A, self.B)\n",
    "        self.BC = Line(self.B, self.C)\n",
    "        self.AD = Line(self.A, self.D)\n",
    "        self.DC = Line(self.D, self.C)\n",
    "        \n",
    "        self.AE = Line(self.A, self.E)\n",
    "        self.BF = Line(self.B, self.F)\n",
    "        self.CG = Line(self.C, self.G)\n",
    "        self.DH = Line(self.D, self.H)\n",
    "        \n",
    "        self.EF = Line(self.E, self.F)\n",
    "        self.EH = Line(self.E, self.H)\n",
    "        self.FG = Line(self.F, self.G)\n",
    "        self.HG = Line(self.H, self.G)\n",
    "        \n",
    "        self.iterable_edges = [self.AB, self.BC, self.AD, self.DC, self.AE, self.BF,\n",
    "                               self.CG, self.DH, self.EF, self.EH, self.FG, self.HG]\n",
    "        \n",
    "        \n",
    "        \n",
    "    def intersection_with_plane(self, plane):\n",
    "        boundaries = self.iterable_edges\n",
    "\n",
    "        intersections = filter(None, map(lambda edge: intersection(edge, plane), boundaries))\n",
    "        intersections = filter(lambda x: not isinstance(x, Line), intersections)\n",
    "        intersections = list(set(intersections))\n",
    "\n",
    "        # Filter out any out of bounds intersections\n",
    "        def in_bounds(point):\n",
    "            # intersect is actually (num, point)\n",
    "            return (\n",
    "                # <3 Python's comparison operator\n",
    "                self.A.x <= point.x <= self.G.x and\n",
    "                self.A.y <= point.y <= self.G.y and\n",
    "                self.A.z <= point.z <= self.G.z\n",
    "            )\n",
    "        intersections = list(filter(in_bounds, intersections))\n",
    "        \n",
    "        \n",
    "        if intersections:\n",
    "            polygon = [intersections.pop()]\n",
    "            while intersections:\n",
    "                last = polygon[-1]\n",
    "                distances = [distance(last, x) for x in intersections]\n",
    "                # We're only interested in the index of the next point,\n",
    "                # this min function returns the minimum (index, distance)\n",
    "                # tuple...\n",
    "                successor = min(enumerate(distances), key=lambda x: x[1])\n",
    "                # ...but we only need the index :)\n",
    "                successor = successor[0]\n",
    "                polygon.append(intersections.pop(successor))\n",
    "\n",
    "            return polygon\n",
    "        else:\n",
    "            return []"
   ]
  },
  {
   "cell_type": "code",
   "execution_count": 5,
   "id": "9a4b2802",
   "metadata": {},
   "outputs": [],
   "source": [
    "def make_random_plane(n=10):\n",
    "    #в кубе с левой нижней вершиной 0,0,0 а правой верхней n,n,n\n",
    "    center = Point(n/2, n/2, n/2)\n",
    "    cube = Cube(side=n, center=center)\n",
    "    #генерируем два угла k1 и k2\n",
    "    k1, k2 = np.tan(uniform(0, np.pi)), np.tan(uniform(0, np.pi))\n",
    "    #рассматриваем случаи\n",
    "    if k1 >= 0:\n",
    "        xm = 0\n",
    "        ym = 0\n",
    "    else:\n",
    "        xm = n\n",
    "        ym = n\n",
    "        k1 = -k1\n",
    "    m1 = n/2-2**(0.5)/2*n*k1\n",
    "    v1 = Vector(center, Point(xm, ym, m1))\n",
    "    \n",
    "    if k2 >= 0:\n",
    "        xn = 0\n",
    "        yn = n\n",
    "    else:\n",
    "        xn = n\n",
    "        yn = 0\n",
    "        k2 = -k2\n",
    "    m2 = n/2-2**(0.5)/2*n*k2\n",
    "    v2 = Vector(center, Point(xn, yn, m2))\n",
    "    \n",
    "    #m1 и m2 - потенциальные минимумы\n",
    "    \n",
    "    if m1 <= m2:\n",
    "        x = xm\n",
    "        y = ym\n",
    "        m = m1\n",
    "    else:\n",
    "        x = xn\n",
    "        y = yn\n",
    "        m = m2\n",
    "    \n",
    "    #генерируем \"сдвиг\"\n",
    "    z = uniform(2*m - n, n)\n",
    "    #возвращаем плоскость по точке и двум векторам\n",
    "    return Plane(Point(x, y, z), v1, v2)"
   ]
  },
  {
   "cell_type": "code",
   "execution_count": 6,
   "id": "39cafc98",
   "metadata": {},
   "outputs": [],
   "source": [
    "# generate random plane\n",
    "def generate_random_plane_angles(cube=Cube()):\n",
    "    \n",
    "    plane = make_random_plane(n=1)\n",
    "    points_intersection = cube.intersection_with_plane(plane)\n",
    "    if len(points_intersection) != 0:\n",
    "        return get_angles(points_intersection)\n",
    "    else:\n",
    "        return []"
   ]
  },
  {
   "cell_type": "code",
   "execution_count": 7,
   "id": "5304b583",
   "metadata": {},
   "outputs": [],
   "source": [
    "def generates_n_plates(n=1000, side=1, center=(0.5, 0.5, 0.5)):\n",
    "    \n",
    "    cube = Cube(side=side, center=Point(center))\n",
    "    angles = [0]*181\n",
    "    \n",
    "    for i in range(n):\n",
    "        angs = generate_random_plane_angles(cube=cube)\n",
    "        if len(angs) != 0:\n",
    "            for ang in angs:\n",
    "                angles[ang] += 1\n",
    "    \n",
    "    return list(np.array(angles)/np.sum(angles))"
   ]
  },
  {
   "cell_type": "code",
   "execution_count": 8,
   "id": "e49faef2",
   "metadata": {},
   "outputs": [],
   "source": [
    "def generate_vertex_distribution(n=1000, side=1, center=(0.5, 0.5, 0.5)):\n",
    "    cube = Cube(side=side, center=Point(center))\n",
    "    \n",
    "    vertex = [0]*7\n",
    "    for i in range(n):\n",
    "        angs = generate_random_plane_angles(cube)\n",
    "        vertex[len(angs)] += 1\n",
    "    \n",
    "    return vertex    "
   ]
  },
  {
   "cell_type": "code",
   "execution_count": 11,
   "id": "df195db4",
   "metadata": {},
   "outputs": [
    {
     "name": "stdout",
     "output_type": "stream",
     "text": [
      "89\n"
     ]
    },
    {
     "data": {
      "text/plain": [
       "[<matplotlib.lines.Line2D at 0x24372561ca0>]"
      ]
     },
     "execution_count": 11,
     "metadata": {},
     "output_type": "execute_result"
    },
    {
     "data": {
      "image/png": "[encoded data removed]",
      "text/plain": [
       "<Figure size 432x288 with 1 Axes>"
      ]
     },
     "metadata": {
      "needs_background": "light"
     },
     "output_type": "display_data"
    }
   ],
   "source": [
    "distr = generates_n_plates(100000)\n",
    "\n",
    "print(np.array(distr).argmax())\n",
    "\n",
    "plt.plot(distr, 'bo')"
   ]
  },
  {
   "cell_type": "code",
   "execution_count": 12,
   "id": "943becb7",
   "metadata": {},
   "outputs": [
    {
     "data": {
      "text/plain": [
       "[<matplotlib.lines.Line2D at 0x243725c3f10>]"
      ]
     },
     "execution_count": 12,
     "metadata": {},
     "output_type": "execute_result"
    },
    {
     "data": {
      "image/png": "[encoded data removed]",
      "text/plain": [
       "<Figure size 504x504 with 1 Axes>"
      ]
     },
     "metadata": {
      "needs_background": "light"
     },
     "output_type": "display_data"
    }
   ],
   "source": [
    "plt.figure(figsize=(7,7))\n",
    "plt.plot(distr[75:101], 'bo')"
   ]
  },
  {
   "cell_type": "code",
   "execution_count": 14,
   "id": "fd18dc3d",
   "metadata": {},
   "outputs": [
    {
     "data": {
      "text/plain": [
       "[0, 0, 0, 27530, 49899, 17617, 4954]"
      ]
     },
     "execution_count": 14,
     "metadata": {},
     "output_type": "execute_result"
    }
   ],
   "source": [
    "generate_vertex_distribution(n=100000)"
   ]
  },
  {
   "cell_type": "code",
   "execution_count": 15,
   "id": "a0ec3850",
   "metadata": {},
   "outputs": [],
   "source": [
    "a = np.array([0, 0, 0, 27530, 49899, 17617, 4954])"
   ]
  },
  {
   "cell_type": "code",
   "execution_count": 18,
   "id": "e85d1ff2",
   "metadata": {},
   "outputs": [
    {
     "data": {
      "text/plain": [
       "array([ 0.   ,  0.   ,  0.   , 27.53 , 49.899, 17.617,  4.954])"
      ]
     },
     "execution_count": 18,
     "metadata": {},
     "output_type": "execute_result"
    }
   ],
   "source": [
    "a/1000"
   ]
  },
  {
   "cell_type": "code",
   "execution_count": 10,
   "id": "556946aa",
   "metadata": {},
   "outputs": [
    {
     "data": {
      "text/plain": [
       "[<matplotlib.lines.Line2D at 0x1c0b189dd00>]"
      ]
     },
     "execution_count": 10,
     "metadata": {},
     "output_type": "execute_result"
    },
    {
     "data": {
      "image/png": "[encoded data removed]",
      "text/plain": [
       "<Figure size 504x504 with 1 Axes>"
      ]
     },
     "metadata": {
      "needs_background": "light"
     },
     "output_type": "display_data"
    }
   ],
   "source": [
    "plt.figure(figsize=(7,7))\n",
    "plt.plot(generates_n_plates(50000))"
   ]
  },
  {
   "cell_type": "code",
   "execution_count": 11,
   "id": "2271567e",
   "metadata": {},
   "outputs": [
    {
     "data": {
      "text/plain": [
       "[<matplotlib.lines.Line2D at 0x1c0b1900f70>]"
      ]
     },
     "execution_count": 11,
     "metadata": {},
     "output_type": "execute_result"
    },
    {
     "data": {
      "image/png": "[encoded data removed]",
      "text/plain": [
       "<Figure size 504x504 with 1 Axes>"
      ]
     },
     "metadata": {
      "needs_background": "light"
     },
     "output_type": "display_data"
    }
   ],
   "source": [
    "plt.figure(figsize=(7,7))\n",
    "plt.plot(generates_n_plates(500000))"
   ]
  },
  {
   "cell_type": "code",
   "execution_count": null,
   "id": "a8be35de",
   "metadata": {},
   "outputs": [],
   "source": []
  }
 ],
 "metadata": {
  "kernelspec": {
   "display_name": "Python 3",
   "language": "python",
   "name": "python3"
  },
  "language_info": {
   "codemirror_mode": {
    "name": "ipython",
    "version": 3
   },
   "file_extension": ".py",
   "mimetype": "text/x-python",
   "name": "python",
   "nbconvert_exporter": "python",
   "pygments_lexer": "ipython3",
   "version": "3.8.8"
  }
 },
 "nbformat": 4,
 "nbformat_minor": 5
}
