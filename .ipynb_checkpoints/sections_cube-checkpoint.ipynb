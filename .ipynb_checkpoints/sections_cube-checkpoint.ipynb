{
 "cells": [
  {
   "cell_type": "code",
   "execution_count": 1,
   "id": "f3eb75c2",
   "metadata": {},
   "outputs": [],
   "source": [
    "import numpy as np\n",
    "from random import random\n",
    "from matplotlib import pyplot as plt"
   ]
  },
  {
   "cell_type": "code",
   "execution_count": 2,
   "id": "900b8d5b",
   "metadata": {},
   "outputs": [],
   "source": [
    "from calc import distance, intersection, parallel, angle, orthogonal\n",
    "from draw import draw\n",
    "from line import Line\n",
    "from plane import Plane\n",
    "from point import Point\n",
    "from solver import solve\n",
    "from vector import Vector\n",
    "\n",
    "__all__ = (\n",
    "    \"Line\",\n",
    "    \"Plane\",\n",
    "    \"Point\",\n",
    "    \"Vector\",\n",
    "    \"angle\",\n",
    "    \"distance\",\n",
    "    \"draw\",\n",
    "    \"intersection\",\n",
    "    \"orthogonal\",\n",
    "    \"parallel\",\n",
    "    \"solve\",\n",
    ")"
   ]
  },
  {
   "cell_type": "code",
   "execution_count": 3,
   "id": "76887638",
   "metadata": {},
   "outputs": [],
   "source": [
    "def get_angles(points):\n",
    "        # вычисление угла\n",
    "        cnt = points\n",
    "        num_points = len(cnt)\n",
    "        angles = []\n",
    "        for i, point in enumerate(cnt):\n",
    "            point1 = cnt[i - 1]\n",
    "            point2 = cnt[i]\n",
    "            point3 = cnt[(i + 1) % num_points]\n",
    "            angles.append(int(Vector(point2, point1).angle(Vector(point2, point3))* 180 / np.pi))\n",
    "\n",
    "        return np.array(angles)"
   ]
  },
  {
   "cell_type": "code",
   "execution_count": 25,
   "id": "4d73d406",
   "metadata": {},
   "outputs": [],
   "source": [
    "class Cube():\n",
    "    #куб с вершиной А в нуле координат и заданной длиной ребра, находится в первой полуплоскости для каждй пары осей\n",
    "    def __init__(self, side=1, center=Point(0.5, 0.5, 0.5), ax3d=None):\n",
    "        \n",
    "        \n",
    "        self.side = side\n",
    "        self.center = center\n",
    "        a = side\n",
    "        \n",
    "        vec = Point(center - Point(side/2, side/2, side/2))\n",
    "        \n",
    "        self.A = Point(0, 0, 0) + vec\n",
    "        self.B = Point(a, 0, 0) + vec\n",
    "        self.C = Point(a, a, 0) + vec\n",
    "        self.D = Point(0, a, 0) + vec\n",
    "        self.E = Point(0, 0, a) + vec\n",
    "        self.F = Point(a, 0, a) + vec\n",
    "        self.G = Point(a, a, a) + vec\n",
    "        self.H = Point(0, a, a) + vec\n",
    "        \n",
    "        self.iterable_points = [self.A, self.B, self.C, self.D, self.E, self.F, self.G, self.H]\n",
    "        self.names = ['A', 'B', 'C', 'D', 'E', 'F', 'G', 'H']\n",
    "        \n",
    "        self.AB = Line(self.A, self.B)\n",
    "        self.BC = Line(self.B, self.C)\n",
    "        self.AD = Line(self.A, self.D)\n",
    "        self.DC = Line(self.D, self.C)\n",
    "        \n",
    "        self.AE = Line(self.A, self.E)\n",
    "        self.BF = Line(self.B, self.F)\n",
    "        self.CG = Line(self.C, self.G)\n",
    "        self.DH = Line(self.D, self.H)\n",
    "        \n",
    "        self.EF = Line(self.E, self.F)\n",
    "        self.EH = Line(self.E, self.H)\n",
    "        self.FG = Line(self.F, self.G)\n",
    "        self.HG = Line(self.H, self.G)\n",
    "        \n",
    "        self.iterable_edges = [self.AB, self.BC, self.AD, self.DC, self.AE, self.BF,\n",
    "                               self.CG, self.DH, self.EF, self.EH, self.FG, self.HG]\n",
    "        \n",
    "        \n",
    "        \n",
    "    def intersection_with_plane(self, plane):\n",
    "        boundaries = self.iterable_edges\n",
    "\n",
    "        intersections = filter(None, map(lambda edge: intersection(edge, plane), boundaries))\n",
    "        intersections = filter(lambda x: not isinstance(x, Line), intersections)\n",
    "        intersections = list(set(intersections))\n",
    "\n",
    "        # Filter out any out of bounds intersections\n",
    "        def in_bounds(point):\n",
    "            # intersect is actually (num, point)\n",
    "            return (\n",
    "                # <3 Python's comparison operator\n",
    "                self.A.x <= point.x <= self.G.x and\n",
    "                self.A.y <= point.y <= self.G.y and\n",
    "                self.A.z <= point.z <= self.G.z\n",
    "            )\n",
    "        intersections = list(filter(in_bounds, intersections))\n",
    "        \n",
    "        \n",
    "        if intersections:\n",
    "            polygon = [intersections.pop()]\n",
    "            while intersections:\n",
    "                last = polygon[-1]\n",
    "                distances = [distance(last, x) for x in intersections]\n",
    "                # We're only interested in the index of the next point,\n",
    "                # this min function returns the minimum (index, distance)\n",
    "                # tuple...\n",
    "                successor = min(enumerate(distances), key=lambda x: x[1])\n",
    "                # ...but we only need the index :)\n",
    "                successor = successor[0]\n",
    "                polygon.append(intersections.pop(successor))\n",
    "\n",
    "            return polygon\n",
    "        else:\n",
    "            return []"
   ]
  },
  {
   "cell_type": "code",
   "execution_count": null,
   "id": "5c56384f",
   "metadata": {},
   "outputs": [],
   "source": []
  },
  {
   "cell_type": "code",
   "execution_count": 26,
   "id": "9cd17f2a",
   "metadata": {},
   "outputs": [],
   "source": [
    "cube = Cube()"
   ]
  },
  {
   "cell_type": "code",
   "execution_count": 27,
   "id": "d84943aa",
   "metadata": {},
   "outputs": [
    {
     "data": {
      "text/plain": [
       "[Point(1.0, 0.3333333333333333, 0.0),\n",
       " Point(0.5, 0.0, 0.0),\n",
       " Point(0.0, 0.0, 1.0),\n",
       " Point(1.0, 0.6666666666666666, 1.0)]"
      ]
     },
     "execution_count": 27,
     "metadata": {},
     "output_type": "execute_result"
    }
   ],
   "source": [
    "M = Point(0.5, 0, 0)\n",
    "N = Point(1, 0.5, 0.5)\n",
    "K = Point(0, 0, 1)\n",
    "\n",
    "plane = Plane(M, N, K)\n",
    "\n",
    "cube.intersection_with_plane(plane)"
   ]
  },
  {
   "cell_type": "code",
   "execution_count": 28,
   "id": "c42a6967",
   "metadata": {},
   "outputs": [],
   "source": [
    "# generate random plane\n",
    "def generate_random_plane_angles(cube=cube):\n",
    "    M = Point(random(), random(), random())\n",
    "    N = Point(random(), random(), random())\n",
    "    K = Point(random(), random(), random())\n",
    "\n",
    "    plane = Plane(M, N, K)\n",
    "    points_intersection = cube.intersection_with_plane(plane)\n",
    "    if len(points_intersection) != 0:\n",
    "        return get_angles(points_intersection)\n",
    "    else:\n",
    "        return []"
   ]
  },
  {
   "cell_type": "code",
   "execution_count": 29,
   "id": "e5797b0b",
   "metadata": {},
   "outputs": [],
   "source": [
    "def generates_n_plates(n=1000, cube=cube):\n",
    "    angles = [0]*181\n",
    "    \n",
    "    for i in range(n):\n",
    "        angs = generate_random_plane_angles(cube)\n",
    "        if len(angs) != 0:\n",
    "            for ang in angs:\n",
    "                angles[ang] += 1\n",
    "    \n",
    "    return list(np.array(angles))"
   ]
  },
  {
   "cell_type": "code",
   "execution_count": 30,
   "id": "358c72e2",
   "metadata": {},
   "outputs": [
    {
     "data": {
      "text/plain": [
       "Point(1.0, 0.0, 0.0)"
      ]
     },
     "execution_count": 30,
     "metadata": {},
     "output_type": "execute_result"
    }
   ],
   "source": [
    "cube.B"
   ]
  },
  {
   "cell_type": "code",
   "execution_count": 32,
   "id": "ca99ae18",
   "metadata": {},
   "outputs": [
    {
     "name": "stdout",
     "output_type": "stream",
     "text": [
      "Wall time: 1.02 s\n"
     ]
    },
    {
     "data": {
      "text/plain": [
       "[<matplotlib.lines.Line2D at 0x2179b8401f0>]"
      ]
     },
     "execution_count": 32,
     "metadata": {},
     "output_type": "execute_result"
    },
    {
     "data": {
      "image/png": "[encoded data removed]",
      "text/plain": [
       "<Figure size 432x288 with 1 Axes>"
      ]
     },
     "metadata": {
      "needs_background": "light"
     },
     "output_type": "display_data"
    }
   ],
   "source": [
    "%%time\n",
    "\n",
    "plt.plot(generates_n_plates(1000))"
   ]
  },
  {
   "cell_type": "code",
   "execution_count": 33,
   "id": "9674c1d4",
   "metadata": {},
   "outputs": [
    {
     "name": "stdout",
     "output_type": "stream",
     "text": [
      "Wall time: 9.56 s\n"
     ]
    },
    {
     "data": {
      "text/plain": [
       "[<matplotlib.lines.Line2D at 0x2179b89c3d0>]"
      ]
     },
     "execution_count": 33,
     "metadata": {},
     "output_type": "execute_result"
    },
    {
     "data": {
      "image/png": "[encoded data removed]",
      "text/plain": [
       "<Figure size 432x288 with 1 Axes>"
      ]
     },
     "metadata": {
      "needs_background": "light"
     },
     "output_type": "display_data"
    }
   ],
   "source": [
    "%%time\n",
    "\n",
    "plt.plot(generates_n_plates(10000))"
   ]
  },
  {
   "cell_type": "code",
   "execution_count": 12,
   "id": "d9e38081",
   "metadata": {},
   "outputs": [
    {
     "name": "stdout",
     "output_type": "stream",
     "text": [
      "Wall time: 37.2 s\n"
     ]
    },
    {
     "data": {
      "text/plain": [
       "[<matplotlib.lines.Line2D at 0x2179a729250>]"
      ]
     },
     "execution_count": 12,
     "metadata": {},
     "output_type": "execute_result"
    },
    {
     "data": {
      "image/png": "[encoded data removed]",
      "text/plain": [
       "<Figure size 432x288 with 1 Axes>"
      ]
     },
     "metadata": {
      "needs_background": "light"
     },
     "output_type": "display_data"
    }
   ],
   "source": [
    "%%time\n",
    "\n",
    "plt.plot(generates_n_plates(50000))"
   ]
  },
  {
   "cell_type": "code",
   "execution_count": 34,
   "id": "ed4644d6",
   "metadata": {},
   "outputs": [],
   "source": [
    "cube_2 = Cube(side=0.7)"
   ]
  },
  {
   "cell_type": "code",
   "execution_count": 35,
   "id": "0e6da2fc",
   "metadata": {},
   "outputs": [
    {
     "data": {
      "text/plain": [
       "[Point(0.15000000000000002, 0.15000000000000002, 0.15000000000000002),\n",
       " Point(0.85, 0.15000000000000002, 0.15000000000000002),\n",
       " Point(0.85, 0.85, 0.15000000000000002),\n",
       " Point(0.15000000000000002, 0.85, 0.15000000000000002),\n",
       " Point(0.15000000000000002, 0.15000000000000002, 0.85),\n",
       " Point(0.85, 0.15000000000000002, 0.85),\n",
       " Point(0.85, 0.85, 0.85),\n",
       " Point(0.15000000000000002, 0.85, 0.85)]"
      ]
     },
     "execution_count": 35,
     "metadata": {},
     "output_type": "execute_result"
    }
   ],
   "source": [
    "cube_2.iterable_points"
   ]
  },
  {
   "cell_type": "code",
   "execution_count": 36,
   "id": "ed33cba2",
   "metadata": {},
   "outputs": [
    {
     "data": {
      "text/plain": [
       "[Line(Vector(0.15000000000000002, 0.15000000000000002, 0.15000000000000002), Vector(0.7, 0.0, 0.0)),\n",
       " Line(Vector(0.85, 0.15000000000000002, 0.15000000000000002), Vector(0.0, 0.7, 0.0)),\n",
       " Line(Vector(0.15000000000000002, 0.15000000000000002, 0.15000000000000002), Vector(0.0, 0.7, 0.0)),\n",
       " Line(Vector(0.15000000000000002, 0.85, 0.15000000000000002), Vector(0.7, 0.0, 0.0)),\n",
       " Line(Vector(0.15000000000000002, 0.15000000000000002, 0.15000000000000002), Vector(0.0, 0.0, 0.7)),\n",
       " Line(Vector(0.85, 0.15000000000000002, 0.15000000000000002), Vector(0.0, 0.0, 0.7)),\n",
       " Line(Vector(0.85, 0.85, 0.15000000000000002), Vector(0.0, 0.0, 0.7)),\n",
       " Line(Vector(0.15000000000000002, 0.85, 0.15000000000000002), Vector(0.0, 0.0, 0.7)),\n",
       " Line(Vector(0.15000000000000002, 0.15000000000000002, 0.85), Vector(0.7, 0.0, 0.0)),\n",
       " Line(Vector(0.15000000000000002, 0.15000000000000002, 0.85), Vector(0.0, 0.7, 0.0)),\n",
       " Line(Vector(0.85, 0.15000000000000002, 0.85), Vector(0.0, 0.7, 0.0)),\n",
       " Line(Vector(0.15000000000000002, 0.85, 0.85), Vector(0.7, 0.0, 0.0))]"
      ]
     },
     "execution_count": 36,
     "metadata": {},
     "output_type": "execute_result"
    }
   ],
   "source": [
    "cube_2.iterable_edges"
   ]
  },
  {
   "cell_type": "code",
   "execution_count": 39,
   "id": "d64fb09e",
   "metadata": {},
   "outputs": [
    {
     "data": {
      "text/plain": [
       "array([123, 116,  63, 116, 120])"
      ]
     },
     "execution_count": 39,
     "metadata": {},
     "output_type": "execute_result"
    }
   ],
   "source": [
    "generate_random_plane_angles(cube=cube_2)"
   ]
  },
  {
   "cell_type": "code",
   "execution_count": 40,
   "id": "0ccc88d6",
   "metadata": {},
   "outputs": [
    {
     "name": "stdout",
     "output_type": "stream",
     "text": [
      "Wall time: 4.97 s\n"
     ]
    },
    {
     "data": {
      "text/plain": [
       "[<matplotlib.lines.Line2D at 0x2179b8fb700>]"
      ]
     },
     "execution_count": 40,
     "metadata": {},
     "output_type": "execute_result"
    },
    {
     "data": {
      "image/png": "[encoded data removed]",
      "text/plain": [
       "<Figure size 432x288 with 1 Axes>"
      ]
     },
     "metadata": {
      "needs_background": "light"
     },
     "output_type": "display_data"
    }
   ],
   "source": [
    "%%time\n",
    "\n",
    "plt.plot(generates_n_plates(5000, cube=cube_2))"
   ]
  },
  {
   "cell_type": "code",
   "execution_count": 41,
   "id": "2db282d5",
   "metadata": {},
   "outputs": [],
   "source": [
    "cube_3 = Cube(side=0.2)"
   ]
  },
  {
   "cell_type": "code",
   "execution_count": 43,
   "id": "c5f36288",
   "metadata": {},
   "outputs": [
    {
     "name": "stdout",
     "output_type": "stream",
     "text": [
      "Wall time: 33.4 s\n"
     ]
    },
    {
     "data": {
      "text/plain": [
       "[<matplotlib.lines.Line2D at 0x2179bc029a0>]"
      ]
     },
     "execution_count": 43,
     "metadata": {},
     "output_type": "execute_result"
    },
    {
     "data": {
      "image/png": "[encoded data removed]",
      "text/plain": [
       "<Figure size 432x288 with 1 Axes>"
      ]
     },
     "metadata": {
      "needs_background": "light"
     },
     "output_type": "display_data"
    }
   ],
   "source": [
    "%%time\n",
    "\n",
    "plt.plot(generates_n_plates(50000, cube=cube_3))"
   ]
  },
  {
   "cell_type": "code",
   "execution_count": 41,
   "id": "5e85a27c",
   "metadata": {},
   "outputs": [
    {
     "data": {
      "text/plain": [
       "Point(0.4, 0.4, 0.4)"
      ]
     },
     "execution_count": 41,
     "metadata": {},
     "output_type": "execute_result"
    }
   ],
   "source": [
    "cube_2.A"
   ]
  },
  {
   "cell_type": "code",
   "execution_count": 146,
   "id": "3d7400c0",
   "metadata": {},
   "outputs": [
    {
     "data": {
      "text/plain": [
       "array([ 81.91479666,  98.08520334, 128.54837643, 133.36642023,\n",
       "        98.08520334])"
      ]
     },
     "execution_count": 146,
     "metadata": {},
     "output_type": "execute_result"
    }
   ],
   "source": [
    "generate_random_plane()"
   ]
  },
  {
   "cell_type": "code",
   "execution_count": 86,
   "id": "cc8a8f27",
   "metadata": {},
   "outputs": [],
   "source": [
    "M = Point(0.5, 0, 0)\n",
    "N = Point(1, 0.5, 0.5)\n",
    "K = Point(0, 0, 1)\n",
    "\n",
    "plane = Plane(M, N, K)\n",
    "points_1 = cube.intersection_with_plane(plane)"
   ]
  },
  {
   "cell_type": "code",
   "execution_count": 106,
   "id": "35f34c0f",
   "metadata": {},
   "outputs": [],
   "source": [
    "a, b, c = M"
   ]
  },
  {
   "cell_type": "code",
   "execution_count": 107,
   "id": "78e087d6",
   "metadata": {},
   "outputs": [
    {
     "data": {
      "text/plain": [
       "0.5"
      ]
     },
     "execution_count": 107,
     "metadata": {},
     "output_type": "execute_result"
    }
   ],
   "source": [
    "a"
   ]
  },
  {
   "cell_type": "code",
   "execution_count": 60,
   "id": "3fefc22f",
   "metadata": {},
   "outputs": [
    {
     "ename": "TypeError",
     "evalue": "'enumerate' object is not subscriptable",
     "output_type": "error",
     "traceback": [
      "\u001b[1;31m---------------------------------------------------------------------------\u001b[0m",
      "\u001b[1;31mTypeError\u001b[0m                                 Traceback (most recent call last)",
      "\u001b[1;32m<ipython-input-60-de8fa89afa6c>\u001b[0m in \u001b[0;36m<module>\u001b[1;34m\u001b[0m\n\u001b[1;32m----> 1\u001b[1;33m \u001b[0menumerate\u001b[0m\u001b[1;33m(\u001b[0m\u001b[0mpoints_1\u001b[0m\u001b[1;33m)\u001b[0m\u001b[1;33m[\u001b[0m\u001b[1;36m0\u001b[0m\u001b[1;33m]\u001b[0m\u001b[1;33m\u001b[0m\u001b[1;33m\u001b[0m\u001b[0m\n\u001b[0m",
      "\u001b[1;31mTypeError\u001b[0m: 'enumerate' object is not subscriptable"
     ]
    }
   ],
   "source": [
    "enumerate(points_1)"
   ]
  },
  {
   "cell_type": "code",
   "execution_count": 111,
   "id": "e3d30b5a",
   "metadata": {},
   "outputs": [],
   "source": []
  },
  {
   "cell_type": "code",
   "execution_count": 112,
   "id": "c26a59b5",
   "metadata": {},
   "outputs": [
    {
     "data": {
      "text/plain": [
       "[Point(1.0, 0.3333333333333333, 0.0),\n",
       " Point(0.5, 0.0, 0.0),\n",
       " Point(0.0, 0.0, 1.0),\n",
       " Point(1.0, 0.6666666666666666, 1.0)]"
      ]
     },
     "execution_count": 112,
     "metadata": {},
     "output_type": "execute_result"
    }
   ],
   "source": [
    "points_1"
   ]
  },
  {
   "cell_type": "code",
   "execution_count": 119,
   "id": "8cfdf2d3",
   "metadata": {},
   "outputs": [
    {
     "data": {
      "text/plain": [
       "array([100.10261179, 111.84544764,  68.15455236,  79.89738821])"
      ]
     },
     "execution_count": 119,
     "metadata": {},
     "output_type": "execute_result"
    }
   ],
   "source": [
    "get_angles(points_1)"
   ]
  },
  {
   "cell_type": "code",
   "execution_count": 114,
   "id": "c968aa00",
   "metadata": {},
   "outputs": [],
   "source": [
    "plane_2 = Plane(Point(1, 0.6, 0.6), Point(0.55, 0.56, 1), Point(0.2, 0, 0))"
   ]
  },
  {
   "cell_type": "code",
   "execution_count": 115,
   "id": "bcf25ec3",
   "metadata": {},
   "outputs": [],
   "source": [
    "points_2 = cube.intersection_with_plane(plane_2)"
   ]
  },
  {
   "cell_type": "code",
   "execution_count": 120,
   "id": "0f573e23",
   "metadata": {},
   "outputs": [
    {
     "data": {
      "text/plain": [
       "array([ 98.78892342, 133.53546339, 127.67561319,  98.78892342,\n",
       "        81.21107658])"
      ]
     },
     "execution_count": 120,
     "metadata": {},
     "output_type": "execute_result"
    }
   ],
   "source": [
    "get_angles(points_2)"
   ]
  },
  {
   "cell_type": "code",
   "execution_count": 21,
   "id": "0f4f22d8",
   "metadata": {},
   "outputs": [],
   "source": [
    "a = 1\n",
    "A = Point(0, 0, 0)\n",
    "B = Point(a, 0, 0)\n",
    "C = Point(a, a, 0)\n",
    "D = Point(0, a, 0)\n",
    "E = Point(0, 0, a)\n",
    "F = Point(a, 0, a)\n",
    "G = Point(a, a, a)\n",
    "H = Point(0, a, a)\n",
    "iterable_points = [A, B, C, D, E, F, G, H]\n",
    "names = ['A', 'B', 'C', 'D', 'E', 'F', 'G', 'H']"
   ]
  },
  {
   "cell_type": "code",
   "execution_count": 26,
   "id": "720a3623",
   "metadata": {},
   "outputs": [
    {
     "data": {
      "text/plain": [
       "(0.5, -0.75, 0.25, 0.25)"
      ]
     },
     "execution_count": 26,
     "metadata": {},
     "output_type": "execute_result"
    }
   ],
   "source": [
    "M = Point(0.5, 0, 0)\n",
    "N = Point(1, 0.5, 0.5)\n",
    "K = Point(0, 0, 1)\n",
    "\n",
    "plane = Plane(M, N, K)\n",
    "plane.general_form()"
   ]
  },
  {
   "cell_type": "code",
   "execution_count": 27,
   "id": "d8f89327",
   "metadata": {},
   "outputs": [
    {
     "data": {
      "text/plain": [
       "Point(1.0, 0.0, 0.0)"
      ]
     },
     "execution_count": 27,
     "metadata": {},
     "output_type": "execute_result"
    }
   ],
   "source": [
    "AB = Line(A, B)\n",
    "BC = Line(B, C)\n",
    "\n",
    "intersection(AB, BC)"
   ]
  },
  {
   "cell_type": "code",
   "execution_count": 28,
   "id": "4e3860f9",
   "metadata": {},
   "outputs": [
    {
     "data": {
      "text/plain": [
       "Point(0.5, 0.0, 0.0)"
      ]
     },
     "execution_count": 28,
     "metadata": {},
     "output_type": "execute_result"
    }
   ],
   "source": [
    "intersection(AB, plane)"
   ]
  },
  {
   "cell_type": "code",
   "execution_count": 25,
   "id": "9e6d5c76",
   "metadata": {},
   "outputs": [
    {
     "data": {
      "text/plain": [
       "Plane(Point(0.5, 0.0, 0.0), Vector(0.0, -0.75, 0.75))"
      ]
     },
     "execution_count": 25,
     "metadata": {},
     "output_type": "execute_result"
    }
   ],
   "source": [
    "plane"
   ]
  },
  {
   "cell_type": "code",
   "execution_count": 2,
   "id": "5ed1b33c",
   "metadata": {},
   "outputs": [
    {
     "name": "stdout",
     "output_type": "stream",
     "text": [
      "True\n"
     ]
    }
   ],
   "source": [
    "p = Point(1, 2, 3)\n",
    "l = Line(Point(-1, -2, -3), Vector(1, 2, 3))\n",
    "print(p in l)"
   ]
  },
  {
   "cell_type": "code",
   "execution_count": 3,
   "id": "4cafca9e",
   "metadata": {},
   "outputs": [
    {
     "name": "stdout",
     "output_type": "stream",
     "text": [
      "True\n"
     ]
    }
   ],
   "source": [
    "l1 = Line(Point(0, 0, 0), Vector(3, 5, 7))\n",
    "l2 = Line(Point(-3, -5, -7), Vector(6, 10, 14))\n",
    "print(l1 == l2)"
   ]
  },
  {
   "cell_type": "code",
   "execution_count": 4,
   "id": "6a04733f",
   "metadata": {},
   "outputs": [
    {
     "name": "stdout",
     "output_type": "stream",
     "text": [
      "Area: 7.500000\n",
      "Volume: 17.500000\n"
     ]
    }
   ],
   "source": [
    "A = Point(0, 0, 0)\n",
    "B = Point(3, 0, 0)\n",
    "C = Point(0, 5, 0)\n",
    "D = Point(0, 0, 7)\n",
    "\n",
    "# This could be simplified if we account for the fact that this is a\n",
    "# right-angled triangle, but we're using the generic way here\n",
    "base = distance(A, B)\n",
    "baseline = Line(A, B)\n",
    "baseheight = distance(baseline, C)\n",
    "area = 0.5 * base * baseheight\n",
    "print(\"Area: %f\" % area)\n",
    "\n",
    "# Again we could simplify here, but we're using the generic way\n",
    "baseplane = Plane(A, B, C)\n",
    "height = distance(baseplane, D)\n",
    "volume = 1.0 / 3 * area * height\n",
    "print(\"Volume: %f\" % volume)"
   ]
  },
  {
   "cell_type": "code",
   "execution_count": 5,
   "id": "446bc1dd",
   "metadata": {},
   "outputs": [
    {
     "name": "stdout",
     "output_type": "stream",
     "text": [
      "General: 42x1 + 0x2 + 0x3 = 84\n",
      "Parametric: x = Vector(2, 3, 5) + r * Vector(0.0, 1.0, 1.0) + s * Vector(0.0, -1.0, 1.0) ; r,s e R\n"
     ]
    }
   ],
   "source": [
    "plane = Plane(Point(2, 3, 5), Vector(42, 0, 0))\n",
    "\n",
    "print(\"General: %ix1 + %ix2 + %ix3 = %i\" % plane.general_form())\n",
    "print(\"Parametric: x = %s + r * %s + s * %s ; r,s e R\" % plane.parametric())"
   ]
  },
  {
   "cell_type": "code",
   "execution_count": 7,
   "id": "aad57fc5",
   "metadata": {},
   "outputs": [],
   "source": [
    "line = Line(Point(0, 0, 0), Vector(1, 1, 1))\n",
    "plane = Plane(Point(0, 0, 0), Vector(1, 1, 1))\n",
    "vector = Vector(3, 5, 7)\n",
    "point = intersection(line, plane)"
   ]
  },
  {
   "cell_type": "code",
   "execution_count": 13,
   "id": "1d126fd7",
   "metadata": {},
   "outputs": [],
   "source": [
    "\n",
    "a = Point(1, 2, 4)\n",
    "b = Point(1, 7, 5)\n",
    "c = Point(10, 2, 6)\n",
    "\n",
    "\n"
   ]
  },
  {
   "cell_type": "code",
   "execution_count": 14,
   "id": "5cbae247",
   "metadata": {},
   "outputs": [
    {
     "data": {
      "text/plain": [
       "Plane(Point(1, 2, 4), Vector(10, 9, -45))"
      ]
     },
     "execution_count": 14,
     "metadata": {},
     "output_type": "execute_result"
    }
   ],
   "source": [
    "Plane(a, b, c)"
   ]
  },
  {
   "cell_type": "code",
   "execution_count": null,
   "id": "54de87fd",
   "metadata": {},
   "outputs": [],
   "source": []
  }
 ],
 "metadata": {
  "kernelspec": {
   "display_name": "Python 3",
   "language": "python",
   "name": "python3"
  },
  "language_info": {
   "codemirror_mode": {
    "name": "ipython",
    "version": 3
   },
   "file_extension": ".py",
   "mimetype": "text/x-python",
   "name": "python",
   "nbconvert_exporter": "python",
   "pygments_lexer": "ipython3",
   "version": "3.8.8"
  }
 },
 "nbformat": 4,
 "nbformat_minor": 5
}
