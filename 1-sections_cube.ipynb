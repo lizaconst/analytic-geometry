{
 "cells": [
  {
   "cell_type": "code",
   "execution_count": 1,
   "id": "f3eb75c2",
   "metadata": {},
   "outputs": [],
   "source": [
    "import numpy as np\n",
    "from random import random\n",
    "from matplotlib import pyplot as plt"
   ]
  },
  {
   "cell_type": "code",
   "execution_count": 2,
   "id": "900b8d5b",
   "metadata": {},
   "outputs": [],
   "source": [
    "from calc import distance, intersection, parallel, angle, orthogonal\n",
    "from draw import draw\n",
    "from line import Line\n",
    "from plane import Plane\n",
    "from point import Point\n",
    "from solver import solve\n",
    "from vector import Vector\n",
    "\n",
    "__all__ = (\n",
    "    \"Line\",\n",
    "    \"Plane\",\n",
    "    \"Point\",\n",
    "    \"Vector\",\n",
    "    \"angle\",\n",
    "    \"distance\",\n",
    "    \"draw\",\n",
    "    \"intersection\",\n",
    "    \"orthogonal\",\n",
    "    \"parallel\",\n",
    "    \"solve\",\n",
    ")"
   ]
  },
  {
   "cell_type": "code",
   "execution_count": 3,
   "id": "76887638",
   "metadata": {},
   "outputs": [],
   "source": [
    "def get_angles(points):\n",
    "    # вычисление угла\n",
    "    cnt = points\n",
    "    num_points = len(cnt)\n",
    "    angles = []\n",
    "    for i, point in enumerate(cnt):\n",
    "        point1 = cnt[i - 1]\n",
    "        point2 = cnt[i]\n",
    "        point3 = cnt[(i + 1) % num_points]\n",
    "        angles.append(int(Vector(point2, point1).angle(Vector(point2, point3))* 180 / np.pi))\n",
    "\n",
    "    return np.array(angles)"
   ]
  },
  {
   "cell_type": "code",
   "execution_count": 4,
   "id": "4d73d406",
   "metadata": {},
   "outputs": [],
   "source": [
    "class Cube():\n",
    "    #куб с вершиной А в нуле координат и заданной длиной ребра, находится в первой полуплоскости для каждй пары осей\n",
    "    def __init__(self, side=1, center=Point(0.5, 0.5, 0.5)):\n",
    "        \n",
    "        \n",
    "        self.side = side\n",
    "        self.center = center\n",
    "        a = side\n",
    "        \n",
    "        vec = Point(center - Point(side/2, side/2, side/2))\n",
    "        \n",
    "        self.A = Point(0, 0, 0) + vec\n",
    "        self.B = Point(a, 0, 0) + vec\n",
    "        self.C = Point(a, a, 0) + vec\n",
    "        self.D = Point(0, a, 0) + vec\n",
    "        self.E = Point(0, 0, a) + vec\n",
    "        self.F = Point(a, 0, a) + vec\n",
    "        self.G = Point(a, a, a) + vec\n",
    "        self.H = Point(0, a, a) + vec\n",
    "        \n",
    "        self.iterable_points = [self.A, self.B, self.C, self.D, self.E, self.F, self.G, self.H]\n",
    "        self.names = ['A', 'B', 'C', 'D', 'E', 'F', 'G', 'H']\n",
    "        \n",
    "        self.AB = Line(self.A, self.B)\n",
    "        self.BC = Line(self.B, self.C)\n",
    "        self.AD = Line(self.A, self.D)\n",
    "        self.DC = Line(self.D, self.C)\n",
    "        \n",
    "        self.AE = Line(self.A, self.E)\n",
    "        self.BF = Line(self.B, self.F)\n",
    "        self.CG = Line(self.C, self.G)\n",
    "        self.DH = Line(self.D, self.H)\n",
    "        \n",
    "        self.EF = Line(self.E, self.F)\n",
    "        self.EH = Line(self.E, self.H)\n",
    "        self.FG = Line(self.F, self.G)\n",
    "        self.HG = Line(self.H, self.G)\n",
    "        \n",
    "        self.iterable_edges = [self.AB, self.BC, self.AD, self.DC, self.AE, self.BF,\n",
    "                               self.CG, self.DH, self.EF, self.EH, self.FG, self.HG]\n",
    "        \n",
    "        \n",
    "        \n",
    "    def intersection_with_plane(self, plane):\n",
    "        boundaries = self.iterable_edges\n",
    "\n",
    "        intersections = filter(None, map(lambda edge: intersection(edge, plane), boundaries))\n",
    "        intersections = filter(lambda x: not isinstance(x, Line), intersections)\n",
    "        intersections = list(set(intersections))\n",
    "\n",
    "        # Filter out any out of bounds intersections\n",
    "        def in_bounds(point):\n",
    "            # intersect is actually (num, point)\n",
    "            return (\n",
    "                # <3 Python's comparison operator\n",
    "                self.A.x <= point.x <= self.G.x and\n",
    "                self.A.y <= point.y <= self.G.y and\n",
    "                self.A.z <= point.z <= self.G.z\n",
    "            )\n",
    "        intersections = list(filter(in_bounds, intersections))\n",
    "        \n",
    "        \n",
    "        if intersections:\n",
    "            polygon = [intersections.pop()]\n",
    "            while intersections:\n",
    "                last = polygon[-1]\n",
    "                distances = [distance(last, x) for x in intersections]\n",
    "                # We're only interested in the index of the next point,\n",
    "                # this min function returns the minimum (index, distance)\n",
    "                # tuple...\n",
    "                successor = min(enumerate(distances), key=lambda x: x[1])\n",
    "                # ...but we only need the index :)\n",
    "                successor = successor[0]\n",
    "                polygon.append(intersections.pop(successor))\n",
    "\n",
    "            return polygon\n",
    "        else:\n",
    "            return []"
   ]
  },
  {
   "cell_type": "code",
   "execution_count": 5,
   "id": "c42a6967",
   "metadata": {},
   "outputs": [],
   "source": [
    "# generate random plane\n",
    "def generate_random_plane_angles(cube=Cube()):\n",
    "    \n",
    "    M = Point(random(), random(), random())\n",
    "    N = Point(random(), random(), random())\n",
    "    K = Point(random(), random(), random())\n",
    "\n",
    "    plane = Plane(M, N, K)\n",
    "    points_intersection = cube.intersection_with_plane(plane)\n",
    "    if len(points_intersection) != 0:\n",
    "        return get_angles(points_intersection)\n",
    "    else:\n",
    "        return []"
   ]
  },
  {
   "cell_type": "code",
   "execution_count": 6,
   "id": "e5797b0b",
   "metadata": {},
   "outputs": [],
   "source": [
    "def generates_n_plates(n=1000, side=1, center=(0.5, 0.5, 0.5)):\n",
    "    \n",
    "    cube = Cube(side=side, center=Point(center))\n",
    "    angles = [0]*181\n",
    "    \n",
    "    for i in range(n):\n",
    "        angs = generate_random_plane_angles(cube=cube)\n",
    "        if len(angs) != 0:\n",
    "            for ang in angs:\n",
    "                angles[ang] += 1\n",
    "    \n",
    "    return list(np.array(angles)/np.sum(angles))"
   ]
  },
  {
   "cell_type": "code",
   "execution_count": 7,
   "id": "4a2090a5",
   "metadata": {},
   "outputs": [],
   "source": [
    "def generate_vertex_distribution(n=1000, side=1, center=(0.5, 0.5, 0.5)):\n",
    "    cube = Cube(side=side, center=Point(center))\n",
    "    \n",
    "    vertex = [0]*7\n",
    "    for i in range(n):\n",
    "        angs = generate_random_plane_angles(cube)\n",
    "        vertex[len(angs)] += 1\n",
    "    \n",
    "    return vertex    "
   ]
  },
  {
   "cell_type": "code",
   "execution_count": 8,
   "id": "2333f358",
   "metadata": {},
   "outputs": [
    {
     "data": {
      "text/plain": [
       "[0, 0, 2, 183, 23342, 18109, 8364]"
      ]
     },
     "execution_count": 8,
     "metadata": {},
     "output_type": "execute_result"
    }
   ],
   "source": [
    "generate_vertex_distribution(n=50000)"
   ]
  },
  {
   "cell_type": "code",
   "execution_count": 9,
   "id": "3e907103",
   "metadata": {},
   "outputs": [],
   "source": [
    "vertex_1 = [0, 0, 0, 145, 23276, 18335, 8244]"
   ]
  },
  {
   "cell_type": "code",
   "execution_count": 10,
   "id": "1fdb295a",
   "metadata": {},
   "outputs": [
    {
     "data": {
      "text/plain": [
       "array([ 0.   ,  0.   ,  0.   ,  0.29 , 46.552, 36.67 , 16.488])"
      ]
     },
     "execution_count": 10,
     "metadata": {},
     "output_type": "execute_result"
    }
   ],
   "source": [
    "np.array(vertex_1)/50000*100"
   ]
  },
  {
   "cell_type": "code",
   "execution_count": 11,
   "id": "ca99ae18",
   "metadata": {},
   "outputs": [
    {
     "name": "stdout",
     "output_type": "stream",
     "text": [
      "90\n",
      "Wall time: 712 ms\n"
     ]
    },
    {
     "data": {
      "text/plain": [
       "[<matplotlib.lines.Line2D at 0x299a2fb71f0>]"
      ]
     },
     "execution_count": 11,
     "metadata": {},
     "output_type": "execute_result"
    },
    {
     "data": {
      "image/png": "[encoded data removed]",
      "text/plain": [
       "<Figure size 432x288 with 1 Axes>"
      ]
     },
     "metadata": {
      "needs_background": "light"
     },
     "output_type": "display_data"
    }
   ],
   "source": [
    "%%time\n",
    "\n",
    "distr = generates_n_plates(1000)\n",
    "\n",
    "print(np.array(distr).argmax())\n",
    "\n",
    "plt.plot(distr, 'bo')"
   ]
  },
  {
   "cell_type": "code",
   "execution_count": 12,
   "id": "9674c1d4",
   "metadata": {},
   "outputs": [
    {
     "name": "stdout",
     "output_type": "stream",
     "text": [
      "Wall time: 6.79 s\n"
     ]
    },
    {
     "data": {
      "text/plain": [
       "[<matplotlib.lines.Line2D at 0x299a3088970>]"
      ]
     },
     "execution_count": 12,
     "metadata": {},
     "output_type": "execute_result"
    },
    {
     "data": {
      "image/png": "[encoded data removed]",
      "text/plain": [
       "<Figure size 432x288 with 1 Axes>"
      ]
     },
     "metadata": {
      "needs_background": "light"
     },
     "output_type": "display_data"
    }
   ],
   "source": [
    "%%time\n",
    "\n",
    "plt.plot(generates_n_plates(10000)[75:100], 'bo')"
   ]
  },
  {
   "cell_type": "code",
   "execution_count": 13,
   "id": "d9e38081",
   "metadata": {},
   "outputs": [
    {
     "name": "stdout",
     "output_type": "stream",
     "text": [
      "Wall time: 33.8 s\n"
     ]
    },
    {
     "data": {
      "text/plain": [
       "[<matplotlib.lines.Line2D at 0x299a30ea2e0>]"
      ]
     },
     "execution_count": 13,
     "metadata": {},
     "output_type": "execute_result"
    },
    {
     "data": {
      "image/png": "[encoded data removed]",
      "text/plain": [
       "<Figure size 504x504 with 1 Axes>"
      ]
     },
     "metadata": {
      "needs_background": "light"
     },
     "output_type": "display_data"
    }
   ],
   "source": [
    "%%time\n",
    "\n",
    "plt.figure(figsize=(7,7))\n",
    "plt.plot(generates_n_plates(50000)[75:100], 'bo')"
   ]
  },
  {
   "cell_type": "code",
   "execution_count": 14,
   "id": "a2eebf3e",
   "metadata": {},
   "outputs": [
    {
     "name": "stdout",
     "output_type": "stream",
     "text": [
      "i got a problem with arccos Vector(0.4801178841020268, 0.8975054935215699, 0.0) Vector(0.4801178841020268, 0.8975054935215699, 0.0)\n",
      "i got a problem with arccos Vector(-0.4801178841020268, -0.8975054935215699, 0.0) Vector(-0.4801178841020268, -0.8975054935215699, 0.0)\n"
     ]
    },
    {
     "data": {
      "text/plain": [
       "[<matplotlib.lines.Line2D at 0x299a313c310>]"
      ]
     },
     "execution_count": 14,
     "metadata": {},
     "output_type": "execute_result"
    },
    {
     "data": {
      "image/png": "[encoded data removed]",
      "text/plain": [
       "<Figure size 504x504 with 1 Axes>"
      ]
     },
     "metadata": {
      "needs_background": "light"
     },
     "output_type": "display_data"
    }
   ],
   "source": [
    "plt.figure(figsize=(7,7))\n",
    "plt.plot(generates_n_plates(50000))"
   ]
  },
  {
   "cell_type": "code",
   "execution_count": 15,
   "id": "0ccc88d6",
   "metadata": {},
   "outputs": [
    {
     "name": "stdout",
     "output_type": "stream",
     "text": [
      "i got a problem with arccos Vector(0.13304235780368578, -0.26661724233494044, 0.0) Vector(0.13304235780368578, -0.26661724233494044, 0.0)\n",
      "i got a problem with arccos Vector(-0.13304235780368578, 0.26661724233494044, 0.0) Vector(-0.13304235780368578, 0.26661724233494044, 0.0)\n",
      "i got a problem with arccos Vector(0.39253956770436726, 0.4064867339576719, 0.0) Vector(0.39253956770436726, 0.4064867339576719, 0.0)\n",
      "i got a problem with arccos Vector(-0.39253956770436726, -0.4064867339576719, 0.0) Vector(-0.39253956770436726, -0.4064867339576719, 0.0)\n",
      "i got a problem with arccos Vector(0.0, 0.0, 0.0) Vector(0.0, 0.0, 0.0)\n",
      "i got a problem with arccos Vector(0.0, 0.0, 0.0) Vector(0.0, 0.0, 0.0)\n",
      "i got a problem with arccos Vector(0.0, 0.0, 0.0) Vector(0.0, 0.0, 0.0)\n",
      "i got a problem with arccos Vector(0.0, 0.0, 0.0) Vector(0.0, 0.0, 0.0)\n",
      "i got a problem with arccos Vector(0.0, 0.0, 0.0) Vector(0.0, 0.0, 0.0)\n",
      "i got a problem with arccos Vector(0.0, 0.0, 0.0) Vector(0.0, 0.0, 0.0)\n",
      "i got a problem with arccos Vector(0.0, 0.0, 0.0) Vector(0.0, 0.0, 0.0)\n",
      "i got a problem with arccos Vector(0.0, -0.1697130516072365, -0.2767881739952269) Vector(0.0, -0.1697130516072365, -0.2767881739952269)\n",
      "i got a problem with arccos Vector(0.0, 0.1697130516072365, 0.2767881739952269) Vector(0.0, 0.1697130516072365, 0.2767881739952269)\n",
      "i got a problem with arccos Vector(-0.26261975695725903, 0.0, 0.16827825380034667) Vector(-0.26261975695725903, 0.0, 0.16827825380034667)\n",
      "i got a problem with arccos Vector(0.26261975695725903, 0.0, -0.16827825380034667) Vector(0.26261975695725903, 0.0, -0.16827825380034667)\n",
      "i got a problem with arccos Vector(0.0, 0.0, 0.0) Vector(0.0, 0.0, 0.0)\n",
      "i got a problem with arccos Vector(0.0, 0.0013767946542615483, 0.5) Vector(0.0, 0.0013767946542615483, 0.5)\n",
      "i got a problem with arccos Vector(0.0, -0.0013767946542615483, -0.5) Vector(0.0, -0.0013767946542615483, -0.5)\n",
      "i got a problem with arccos Vector(0.0, 0.23398592344239533, -0.44408896279223975) Vector(0.0, 0.23398592344239533, -0.44408896279223975)\n",
      "i got a problem with arccos Vector(0.0, -0.23398592344239533, 0.44408896279223975) Vector(0.0, -0.23398592344239533, 0.44408896279223975)\n",
      "i got a problem with arccos Vector(0.0, 0.0, 0.0) Vector(0.0, 0.0, 0.0)\n",
      "i got a problem with arccos Vector(0.0, 0.04835017552494186, -0.2772272828938478) Vector(0.0, 0.04835017552494186, -0.2772272828938478)\n",
      "i got a problem with arccos Vector(0.0, -0.04835017552494186, 0.2772272828938478) Vector(0.0, -0.04835017552494186, 0.2772272828938478)\n",
      "i got a problem with arccos Vector(0.0, 0.0, 0.0) Vector(0.0, 0.0, 0.0)\n",
      "i got a problem with arccos Vector(0.0, 0.0, 0.0) Vector(0.0, 0.0, 0.0)\n",
      "i got a problem with arccos Vector(-0.28262903701664105, 0.0, 0.17514873548699483) Vector(-0.28262903701664105, 0.0, 0.17514873548699483)\n",
      "i got a problem with arccos Vector(0.28262903701664105, 0.0, -0.17514873548699483) Vector(0.28262903701664105, 0.0, -0.17514873548699483)\n",
      "Wall time: 32.9 s\n"
     ]
    },
    {
     "data": {
      "text/plain": [
       "[<matplotlib.lines.Line2D at 0x299a31909d0>]"
      ]
     },
     "execution_count": 15,
     "metadata": {},
     "output_type": "execute_result"
    },
    {
     "data": {
      "image/png": "[encoded data removed]",
      "text/plain": [
       "<Figure size 504x504 with 1 Axes>"
      ]
     },
     "metadata": {
      "needs_background": "light"
     },
     "output_type": "display_data"
    }
   ],
   "source": [
    "%%time\n",
    "plt.figure(figsize=(7,7))\n",
    "\n",
    "plt.plot(generates_n_plates(50000, side=0.5))"
   ]
  },
  {
   "cell_type": "code",
   "execution_count": 16,
   "id": "8114aea1",
   "metadata": {},
   "outputs": [
    {
     "name": "stdout",
     "output_type": "stream",
     "text": [
      "i got a problem with arccos Vector(2.1945178536819654e-05, 0.0, -9.334137436545209e-05) Vector(2.1945178536819654e-05, 0.0, -9.334137436545209e-05)\n",
      "i got a problem with arccos Vector(-2.1945178536819654e-05, 0.0, 9.334137436545209e-05) Vector(-2.1945178536819654e-05, 0.0, 9.334137436545209e-05)\n",
      "i got a problem with arccos Vector(-0.07575970916573965, 0.0, -0.009664563306757135) Vector(-0.07575970916573965, 0.0, -0.009664563306757135)\n",
      "i got a problem with arccos Vector(0.07575970916573965, 0.0, 0.009664563306757135) Vector(0.07575970916573965, 0.0, 0.009664563306757135)\n",
      "i got a problem with arccos Vector(-0.4729372170260615, 0.4393807713700899, 0.0) Vector(-0.4729372170260615, 0.4393807713700899, 0.0)\n",
      "i got a problem with arccos Vector(0.4729372170260615, -0.4393807713700899, 0.0) Vector(0.4729372170260615, -0.4393807713700899, 0.0)\n",
      "i got a problem with arccos Vector(0.010299615227636227, 0.0, -0.00041981447717109877) Vector(0.010299615227636227, 0.0, -0.00041981447717109877)\n",
      "i got a problem with arccos Vector(-0.010299615227636227, 0.0, 0.00041981447717109877) Vector(-0.010299615227636227, 0.0, 0.00041981447717109877)\n",
      "i got a problem with arccos Vector(0.0, 0.0, 0.0) Vector(0.0, 0.0, 0.0)\n",
      "i got a problem with arccos Vector(0.06150366806285357, -0.2664768089227383, 0.0) Vector(0.06150366806285357, -0.2664768089227383, 0.0)\n",
      "i got a problem with arccos Vector(-0.06150366806285357, 0.2664768089227383, 0.0) Vector(-0.06150366806285357, 0.2664768089227383, 0.0)\n",
      "i got a problem with arccos Vector(0.0, 0.0, 0.0) Vector(0.0, 0.0, 0.0)\n",
      "i got a problem with arccos Vector(0.0, 0.0, 0.0) Vector(0.0, 0.0, 0.0)\n",
      "i got a problem with arccos Vector(0.0, 0.0, 0.0) Vector(0.0, 0.0, 0.0)\n",
      "i got a problem with arccos Vector(0.0, 0.0, 0.0) Vector(0.0, 0.0, 0.0)\n"
     ]
    },
    {
     "data": {
      "text/plain": [
       "array([6.2500e+00, 1.0000e-02, 4.0000e-02, 1.1800e+01, 4.7342e+01,\n",
       "       2.5336e+01, 9.2220e+00])"
      ]
     },
     "execution_count": 16,
     "metadata": {},
     "output_type": "execute_result"
    }
   ],
   "source": [
    "vertex_2 = generate_vertex_distribution(n=50000, side=0.5)\n",
    "np.array(vertex_2)/50000*100"
   ]
  },
  {
   "cell_type": "code",
   "execution_count": 17,
   "id": "5d617d97",
   "metadata": {},
   "outputs": [
    {
     "data": {
      "text/plain": [
       "array([12.59338314, 50.52508004, 27.03948773,  9.84204909])"
      ]
     },
     "execution_count": 17,
     "metadata": {},
     "output_type": "execute_result"
    }
   ],
   "source": [
    "vertex_2_ = vertex_2[3:]\n",
    "vertex_2_ = np.array(vertex_2_)\n",
    "vertex_2_/vertex_2_.sum()*100"
   ]
  },
  {
   "cell_type": "code",
   "execution_count": null,
   "id": "c5f36288",
   "metadata": {},
   "outputs": [
    {
     "name": "stdout",
     "output_type": "stream",
     "text": [
      "i got a problem with arccos Vector(0.0, 0.0, 0.0) Vector(0.0, 0.0, 0.0)\n",
      "i got a problem with arccos Vector(0.0, 0.0, 0.0) Vector(0.0, 0.0, 0.0)\n",
      "i got a problem with arccos Vector(0.0, 0.0, 0.0) Vector(0.0, 0.0, 0.0)\n",
      "i got a problem with arccos Vector(0.0, 0.0, 0.0) Vector(0.0, 0.0, 0.0)\n",
      "i got a problem with arccos Vector(0.0, -0.030772589336999445, -0.07654228012527559) Vector(0.0, -0.030772589336999445, -0.07654228012527559)\n",
      "i got a problem with arccos Vector(0.0, 0.030772589336999445, 0.07654228012527559) Vector(0.0, 0.030772589336999445, 0.07654228012527559)\n",
      "i got a problem with arccos Vector(0.0, -0.006699084209010886, 0.01695529454764122) Vector(0.0, -0.006699084209010886, 0.01695529454764122)\n",
      "i got a problem with arccos Vector(0.0, 0.006699084209010886, -0.01695529454764122) Vector(0.0, 0.006699084209010886, -0.01695529454764122)\n",
      "i got a problem with arccos Vector(0.0, 0.0, 0.0) Vector(0.0, 0.0, 0.0)\n",
      "i got a problem with arccos Vector(0.0, 0.08520833056213539, -0.005569560710174115) Vector(0.0, 0.08520833056213539, -0.005569560710174115)\n",
      "i got a problem with arccos Vector(0.0, -0.08520833056213539, 0.005569560710174115) Vector(0.0, -0.08520833056213539, 0.005569560710174115)\n",
      "i got a problem with arccos Vector(0.0, -0.0012084398524070394, 0.0013172960426097724) Vector(0.0, -0.0012084398524070394, 0.0013172960426097724)\n",
      "i got a problem with arccos Vector(0.0, 0.0012084398524070394, -0.0013172960426097724) Vector(0.0, 0.0012084398524070394, -0.0013172960426097724)\n",
      "i got a problem with arccos Vector(8.223540005958263e-05, 0.10000000000000003, 0.0) Vector(8.223540005958263e-05, 0.10000000000000003, 0.0)\n",
      "i got a problem with arccos Vector(-8.223540005958263e-05, -0.10000000000000003, 0.0) Vector(-8.223540005958263e-05, -0.10000000000000003, 0.0)\n",
      "i got a problem with arccos Vector(0.0, 0.0, 0.0) Vector(0.0, 0.0, 0.0)\n",
      "i got a problem with arccos Vector(0.0, 0.0, 0.0) Vector(0.0, 0.0, 0.0)\n",
      "i got a problem with arccos Vector(0.05647999206175086, -0.03365967721630181, 0.0) Vector(0.05647999206175086, -0.03365967721630181, 0.0)\n",
      "i got a problem with arccos Vector(-0.05647999206175086, 0.03365967721630181, 0.0) Vector(-0.05647999206175086, 0.03365967721630181, 0.0)\n",
      "i got a problem with arccos Vector(0.0034201840265015715, 0.0, 0.004821085140144954) Vector(0.0034201840265015715, 0.0, 0.004821085140144954)\n",
      "i got a problem with arccos Vector(-0.0034201840265015715, 0.0, -0.004821085140144954) Vector(-0.0034201840265015715, 0.0, -0.004821085140144954)\n",
      "i got a problem with arccos Vector(0.0, -0.012936468191501738, -0.04364079840748375) Vector(0.0, -0.012936468191501738, -0.04364079840748375)\n",
      "i got a problem with arccos Vector(0.0, 0.012936468191501738, 0.04364079840748375) Vector(0.0, 0.012936468191501738, 0.04364079840748375)\n",
      "i got a problem with arccos Vector(-0.00024889416917650564, 2.2384461563662583e-05, 0.0) Vector(-0.00024889416917650564, 2.2384461563662583e-05, 0.0)\n",
      "i got a problem with arccos Vector(0.00024889416917650564, -2.2384461563662583e-05, 0.0) Vector(0.00024889416917650564, -2.2384461563662583e-05, 0.0)\n",
      "i got a problem with arccos Vector(0.0, 0.0, 0.0) Vector(0.0, 0.0, 0.0)\n",
      "i got a problem with arccos Vector(0.001936271695312075, -0.0007510032604405303, 0.0) Vector(0.001936271695312075, -0.0007510032604405303, 0.0)\n",
      "i got a problem with arccos Vector(-0.001936271695312075, 0.0007510032604405303, 0.0) Vector(-0.001936271695312075, 0.0007510032604405303, 0.0)\n",
      "i got a problem with arccos Vector(0.0, 0.0, 0.0) Vector(0.0, 0.0, 0.0)\n",
      "i got a problem with arccos Vector(0.0, -0.016708014678314065, -0.04438036203633411) Vector(0.0, -0.016708014678314065, -0.04438036203633411)\n",
      "i got a problem with arccos Vector(0.0, 0.016708014678314065, 0.04438036203633411) Vector(0.0, 0.016708014678314065, 0.04438036203633411)\n",
      "i got a problem with arccos Vector(8.714557940148193e-05, -0.0004123050274985607, 0.0) Vector(8.714557940148193e-05, -0.0004123050274985607, 0.0)\n",
      "i got a problem with arccos Vector(-8.714557940148193e-05, 0.0004123050274985607, 0.0) Vector(-8.714557940148193e-05, 0.0004123050274985607, 0.0)\n",
      "i got a problem with arccos Vector(0.0, -0.0005013508020993429, 0.0012459177969277313) Vector(0.0, -0.0005013508020993429, 0.0012459177969277313)\n",
      "i got a problem with arccos Vector(0.0, 0.0005013508020993429, -0.0012459177969277313) Vector(0.0, 0.0005013508020993429, -0.0012459177969277313)\n",
      "i got a problem with arccos Vector(0.0, 0.0, 0.0) Vector(0.0, 0.0, 0.0)\n",
      "i got a problem with arccos Vector(0.0, 0.0, 0.0) Vector(0.0, 0.0, 0.0)\n",
      "i got a problem with arccos Vector(0.0, 0.0, 0.0) Vector(0.0, 0.0, 0.0)\n",
      "i got a problem with arccos Vector(0.0, 0.0, 0.0) Vector(0.0, 0.0, 0.0)\n",
      "i got a problem with arccos Vector(0.0, 0.0, 0.0) Vector(0.0, 0.0, 0.0)\n",
      "i got a problem with arccos Vector(0.0, 0.0005548364112804016, -0.001296109728336936) Vector(0.0, 0.0005548364112804016, -0.001296109728336936)\n",
      "i got a problem with arccos Vector(0.0, -0.0005548364112804016, 0.001296109728336936) Vector(0.0, -0.0005548364112804016, 0.001296109728336936)\n",
      "i got a problem with arccos Vector(-0.024820888110254735, 0.030440473331769913, 0.0) Vector(-0.024820888110254735, 0.030440473331769913, 0.0)\n",
      "i got a problem with arccos Vector(0.024820888110254735, -0.030440473331769913, 0.0) Vector(0.024820888110254735, -0.030440473331769913, 0.0)\n",
      "i got a problem with arccos Vector(0.0008868309456790957, 0.0, -0.00091313100456758) Vector(0.0008868309456790957, 0.0, -0.00091313100456758)\n",
      "i got a problem with arccos Vector(-0.0008868309456790957, 0.0, 0.00091313100456758) Vector(-0.0008868309456790957, 0.0, 0.00091313100456758)\n",
      "i got a problem with arccos Vector(0.0, 0.0, 0.0) Vector(0.0, 0.0, 0.0)\n",
      "i got a problem with arccos Vector(0.0012216997727687584, -0.0008112702762050894, 0.0) Vector(0.0012216997727687584, -0.0008112702762050894, 0.0)\n",
      "i got a problem with arccos Vector(-0.0012216997727687584, 0.0008112702762050894, 0.0) Vector(-0.0012216997727687584, 0.0008112702762050894, 0.0)\n",
      "i got a problem with arccos Vector(0.0, 0.0, 0.0) Vector(0.0, 0.0, 0.0)\n",
      "i got a problem with arccos Vector(-0.0012691698400643103, 0.0, 0.0012419565969619129) Vector(-0.0012691698400643103, 0.0, 0.0012419565969619129)\n",
      "i got a problem with arccos Vector(0.0012691698400643103, 0.0, -0.0012419565969619129) Vector(0.0012691698400643103, 0.0, -0.0012419565969619129)\n",
      "i got a problem with arccos Vector(0.001803427700184601, -0.0004195108817273141, 0.0) Vector(0.001803427700184601, -0.0004195108817273141, 0.0)\n",
      "i got a problem with arccos Vector(-0.001803427700184601, 0.0004195108817273141, 0.0) Vector(-0.001803427700184601, 0.0004195108817273141, 0.0)\n",
      "i got a problem with arccos Vector(0.043722788756198505, 0.0, -0.06659130427895238) Vector(0.043722788756198505, 0.0, -0.06659130427895238)\n",
      "i got a problem with arccos Vector(-0.043722788756198505, 0.0, 0.06659130427895238) Vector(-0.043722788756198505, 0.0, 0.06659130427895238)\n",
      "i got a problem with arccos Vector(0.0, 0.0, 0.0) Vector(0.0, 0.0, 0.0)\n",
      "i got a problem with arccos Vector(0.0, 0.0, 0.0) Vector(0.0, 0.0, 0.0)\n",
      "i got a problem with arccos Vector(0.0, 0.0, 0.0) Vector(0.0, 0.0, 0.0)\n",
      "i got a problem with arccos Vector(0.0, 0.0, 0.0) Vector(0.0, 0.0, 0.0)\n",
      "i got a problem with arccos Vector(0.02570167461045092, 0.01729584531153433, 0.0) Vector(0.02570167461045092, 0.01729584531153433, 0.0)\n",
      "i got a problem with arccos Vector(-0.02570167461045092, -0.01729584531153433, 0.0) Vector(-0.02570167461045092, -0.01729584531153433, 0.0)\n",
      "i got a problem with arccos Vector(0.0, -0.01986787099462417, -0.022938901040077175) Vector(0.0, -0.01986787099462417, -0.022938901040077175)\n",
      "i got a problem with arccos Vector(0.0, 0.01986787099462417, 0.022938901040077175) Vector(0.0, 0.01986787099462417, 0.022938901040077175)\n",
      "i got a problem with arccos Vector(0.0, 0.0, 0.0) Vector(0.0, 0.0, 0.0)\n",
      "i got a problem with arccos Vector(0.07283273826505271, 0.07029517633968119, 0.0) Vector(0.07283273826505271, 0.07029517633968119, 0.0)\n",
      "i got a problem with arccos Vector(-0.07283273826505271, -0.07029517633968119, 0.0) Vector(-0.07283273826505271, -0.07029517633968119, 0.0)\n",
      "i got a problem with arccos Vector(0.0, -0.00638472646921967, 0.0015916484290569577) Vector(0.0, -0.00638472646921967, 0.0015916484290569577)\n",
      "i got a problem with arccos Vector(0.0, 0.00638472646921967, -0.0015916484290569577) Vector(0.0, 0.00638472646921967, -0.0015916484290569577)\n"
     ]
    },
    {
     "name": "stdout",
     "output_type": "stream",
     "text": [
      "i got a problem with arccos Vector(0.0, 1.586953572130234e-05, -2.105056413370665e-05) Vector(0.0, 1.586953572130234e-05, -2.105056413370665e-05)\n",
      "i got a problem with arccos Vector(0.0, -1.586953572130234e-05, 2.105056413370665e-05) Vector(0.0, -1.586953572130234e-05, 2.105056413370665e-05)\n",
      "i got a problem with arccos Vector(0.0, 0.010029080795880163, 0.016402405484068572) Vector(0.0, 0.010029080795880163, 0.016402405484068572)\n",
      "i got a problem with arccos Vector(0.0, -0.010029080795880163, -0.016402405484068572) Vector(0.0, -0.010029080795880163, -0.016402405484068572)\n",
      "i got a problem with arccos Vector(0.0, -0.0013227664587824872, 0.0004869341524877946) Vector(0.0, -0.0013227664587824872, 0.0004869341524877946)\n",
      "i got a problem with arccos Vector(0.0, 0.0013227664587824872, -0.0004869341524877946) Vector(0.0, 0.0013227664587824872, -0.0004869341524877946)\n"
     ]
    }
   ],
   "source": [
    "%%time\n",
    "plt.figure(figsize=(7,7))\n",
    "\n",
    "plt.plot(generates_n_plates(100000, side=0.1))"
   ]
  },
  {
   "cell_type": "code",
   "execution_count": null,
   "id": "cf975d6f",
   "metadata": {},
   "outputs": [],
   "source": [
    "vertex_3 = generate_vertex_distribution(n=100000, side=0.1)\n",
    "np.array(vertex_3)/100000*100"
   ]
  },
  {
   "cell_type": "code",
   "execution_count": null,
   "id": "2007356b",
   "metadata": {},
   "outputs": [],
   "source": [
    "vertex_3_ = vertex_3[3:]\n",
    "vertex_3_ = np.array(vertex_3_)\n",
    "vertex_3_/vertex_3_.sum()*100"
   ]
  },
  {
   "cell_type": "code",
   "execution_count": null,
   "id": "5e85a27c",
   "metadata": {},
   "outputs": [],
   "source": [
    "cube_2.A"
   ]
  },
  {
   "cell_type": "code",
   "execution_count": null,
   "id": "3d7400c0",
   "metadata": {},
   "outputs": [],
   "source": [
    "generate_random_plane()"
   ]
  },
  {
   "cell_type": "code",
   "execution_count": null,
   "id": "cc8a8f27",
   "metadata": {},
   "outputs": [],
   "source": [
    "M = Point(0.5, 0, 0)\n",
    "N = Point(1, 0.5, 0.5)\n",
    "K = Point(0, 0, 1)\n",
    "\n",
    "plane = Plane(M, N, K)\n",
    "points_1 = cube.intersection_with_plane(plane)"
   ]
  },
  {
   "cell_type": "code",
   "execution_count": null,
   "id": "35f34c0f",
   "metadata": {},
   "outputs": [],
   "source": [
    "a, b, c = M"
   ]
  },
  {
   "cell_type": "code",
   "execution_count": null,
   "id": "78e087d6",
   "metadata": {},
   "outputs": [],
   "source": [
    "a"
   ]
  },
  {
   "cell_type": "code",
   "execution_count": null,
   "id": "3fefc22f",
   "metadata": {},
   "outputs": [],
   "source": [
    "enumerate(points_1)"
   ]
  },
  {
   "cell_type": "code",
   "execution_count": null,
   "id": "e3d30b5a",
   "metadata": {},
   "outputs": [],
   "source": [
    "M = Point(0.5, 0, 0)\n",
    "N = Point(1, 0.5, 0.5)\n",
    "K = Point(0, 0, 1)\n",
    "\n",
    "plane = Plane(M, N, K)\n",
    "\n",
    "cube.intersection_with_plane(plane)"
   ]
  },
  {
   "cell_type": "code",
   "execution_count": null,
   "id": "c26a59b5",
   "metadata": {},
   "outputs": [],
   "source": [
    "points_1"
   ]
  },
  {
   "cell_type": "code",
   "execution_count": null,
   "id": "8cfdf2d3",
   "metadata": {},
   "outputs": [],
   "source": [
    "get_angles(points_1)"
   ]
  },
  {
   "cell_type": "code",
   "execution_count": null,
   "id": "c968aa00",
   "metadata": {},
   "outputs": [],
   "source": [
    "plane_2 = Plane(Point(1, 0.6, 0.6), Point(0.55, 0.56, 1), Point(0.2, 0, 0))"
   ]
  },
  {
   "cell_type": "code",
   "execution_count": null,
   "id": "bcf25ec3",
   "metadata": {},
   "outputs": [],
   "source": [
    "points_2 = cube.intersection_with_plane(plane_2)"
   ]
  },
  {
   "cell_type": "code",
   "execution_count": null,
   "id": "0f573e23",
   "metadata": {},
   "outputs": [],
   "source": [
    "get_angles(points_2)"
   ]
  },
  {
   "cell_type": "code",
   "execution_count": null,
   "id": "0f4f22d8",
   "metadata": {},
   "outputs": [],
   "source": [
    "a = 1\n",
    "A = Point(0, 0, 0)\n",
    "B = Point(a, 0, 0)\n",
    "C = Point(a, a, 0)\n",
    "D = Point(0, a, 0)\n",
    "E = Point(0, 0, a)\n",
    "F = Point(a, 0, a)\n",
    "G = Point(a, a, a)\n",
    "H = Point(0, a, a)\n",
    "iterable_points = [A, B, C, D, E, F, G, H]\n",
    "names = ['A', 'B', 'C', 'D', 'E', 'F', 'G', 'H']"
   ]
  },
  {
   "cell_type": "code",
   "execution_count": null,
   "id": "720a3623",
   "metadata": {},
   "outputs": [],
   "source": [
    "M = Point(0.5, 0, 0)\n",
    "N = Point(1, 0.5, 0.5)\n",
    "K = Point(0, 0, 1)\n",
    "\n",
    "plane = Plane(M, N, K)\n",
    "plane.general_form()"
   ]
  },
  {
   "cell_type": "code",
   "execution_count": null,
   "id": "d8f89327",
   "metadata": {},
   "outputs": [],
   "source": [
    "AB = Line(A, B)\n",
    "BC = Line(B, C)\n",
    "\n",
    "intersection(AB, BC)"
   ]
  },
  {
   "cell_type": "code",
   "execution_count": null,
   "id": "4e3860f9",
   "metadata": {},
   "outputs": [],
   "source": [
    "intersection(AB, plane)"
   ]
  },
  {
   "cell_type": "code",
   "execution_count": null,
   "id": "9e6d5c76",
   "metadata": {},
   "outputs": [],
   "source": [
    "plane"
   ]
  },
  {
   "cell_type": "code",
   "execution_count": null,
   "id": "5ed1b33c",
   "metadata": {},
   "outputs": [],
   "source": [
    "p = Point(1, 2, 3)\n",
    "l = Line(Point(-1, -2, -3), Vector(1, 2, 3))\n",
    "print(p in l)"
   ]
  },
  {
   "cell_type": "code",
   "execution_count": null,
   "id": "4cafca9e",
   "metadata": {},
   "outputs": [],
   "source": [
    "l1 = Line(Point(0, 0, 0), Vector(3, 5, 7))\n",
    "l2 = Line(Point(-3, -5, -7), Vector(6, 10, 14))\n",
    "print(l1 == l2)"
   ]
  },
  {
   "cell_type": "code",
   "execution_count": null,
   "id": "6a04733f",
   "metadata": {},
   "outputs": [],
   "source": [
    "A = Point(0, 0, 0)\n",
    "B = Point(3, 0, 0)\n",
    "C = Point(0, 5, 0)\n",
    "D = Point(0, 0, 7)\n",
    "\n",
    "# This could be simplified if we account for the fact that this is a\n",
    "# right-angled triangle, but we're using the generic way here\n",
    "base = distance(A, B)\n",
    "baseline = Line(A, B)\n",
    "baseheight = distance(baseline, C)\n",
    "area = 0.5 * base * baseheight\n",
    "print(\"Area: %f\" % area)\n",
    "\n",
    "# Again we could simplify here, but we're using the generic way\n",
    "baseplane = Plane(A, B, C)\n",
    "height = distance(baseplane, D)\n",
    "volume = 1.0 / 3 * area * height\n",
    "print(\"Volume: %f\" % volume)"
   ]
  },
  {
   "cell_type": "code",
   "execution_count": null,
   "id": "446bc1dd",
   "metadata": {},
   "outputs": [],
   "source": [
    "plane = Plane(Point(2, 3, 5), Vector(42, 0, 0))\n",
    "\n",
    "print(\"General: %ix1 + %ix2 + %ix3 = %i\" % plane.general_form())\n",
    "print(\"Parametric: x = %s + r * %s + s * %s ; r,s e R\" % plane.parametric())"
   ]
  },
  {
   "cell_type": "code",
   "execution_count": null,
   "id": "aad57fc5",
   "metadata": {},
   "outputs": [],
   "source": [
    "line = Line(Point(0, 0, 0), Vector(1, 1, 1))\n",
    "plane = Plane(Point(0, 0, 0), Vector(1, 1, 1))\n",
    "vector = Vector(3, 5, 7)\n",
    "point = intersection(line, plane)"
   ]
  },
  {
   "cell_type": "code",
   "execution_count": null,
   "id": "1d126fd7",
   "metadata": {},
   "outputs": [],
   "source": [
    "\n",
    "a = Point(1, 2, 4)\n",
    "b = Point(1, 7, 5)\n",
    "c = Point(10, 2, 6)\n",
    "\n",
    "\n"
   ]
  },
  {
   "cell_type": "code",
   "execution_count": null,
   "id": "5cbae247",
   "metadata": {},
   "outputs": [],
   "source": [
    "Plane(a, b, c)"
   ]
  },
  {
   "cell_type": "code",
   "execution_count": null,
   "id": "54de87fd",
   "metadata": {},
   "outputs": [],
   "source": []
  }
 ],
 "metadata": {
  "kernelspec": {
   "display_name": "Python 3",
   "language": "python",
   "name": "python3"
  },
  "language_info": {
   "codemirror_mode": {
    "name": "ipython",
    "version": 3
   },
   "file_extension": ".py",
   "mimetype": "text/x-python",
   "name": "python",
   "nbconvert_exporter": "python",
   "pygments_lexer": "ipython3",
   "version": "3.8.8"
  }
 },
 "nbformat": 4,
 "nbformat_minor": 5
}
