{
 "cells": [
  {
   "cell_type": "code",
   "execution_count": 15,
   "id": "4c7ba8ed",
   "metadata": {},
   "outputs": [],
   "source": [
    "from random import random, uniform\n",
    "from matplotlib import pyplot as plt\n",
    "import numpy as np\n",
    "import math\n",
    "from tqdm import tqdm"
   ]
  },
  {
   "cell_type": "code",
   "execution_count": 2,
   "id": "e5635368",
   "metadata": {},
   "outputs": [],
   "source": [
    "from calc import distance, intersection, parallel, angle, orthogonal\n",
    "from draw import draw\n",
    "from line import Line\n",
    "from plane import Plane\n",
    "from point import Point\n",
    "from solver import solve\n",
    "from vector import Vector\n",
    "\n",
    "__all__ = (\n",
    "    \"Line\",\n",
    "    \"Plane\",\n",
    "    \"Point\",\n",
    "    \"Vector\",\n",
    "    \"angle\",\n",
    "    \"distance\",\n",
    "    \"draw\",\n",
    "    \"intersection\",\n",
    "    \"orthogonal\",\n",
    "    \"parallel\",\n",
    "    \"solve\",\n",
    ")"
   ]
  },
  {
   "cell_type": "code",
   "execution_count": 11,
   "id": "8e01e9f6",
   "metadata": {},
   "outputs": [],
   "source": [
    "class Cube():\n",
    "    #куб с вершиной А в нуле координат и заданной длиной ребра, находится в первой полуплоскости для каждй пары осей\n",
    "    def __init__(self, side=1, center=Point(0.5, 0.5, 0.5), ax3d=None):\n",
    "        \n",
    "        \n",
    "        self.side = side\n",
    "        self.center = center\n",
    "        a = side\n",
    "        \n",
    "        vec = Point(center - Point(side/2, side/2, side/2))\n",
    "        \n",
    "        self.A = Point(0, 0, 0) + vec\n",
    "        self.B = Point(a, 0, 0) + vec\n",
    "        self.C = Point(a, a, 0) + vec\n",
    "        self.D = Point(0, a, 0) + vec\n",
    "        self.E = Point(0, 0, a) + vec\n",
    "        self.F = Point(a, 0, a) + vec\n",
    "        self.G = Point(a, a, a) + vec\n",
    "        self.H = Point(0, a, a) + vec\n",
    "        \n",
    "        self.iterable_points = [self.A, self.B, self.C, self.D, self.E, self.F, self.G, self.H]\n",
    "        self.names = ['A', 'B', 'C', 'D', 'E', 'F', 'G', 'H']\n",
    "        \n",
    "        self.AB = Line(self.A, self.B)\n",
    "        self.BC = Line(self.B, self.C)\n",
    "        self.AD = Line(self.A, self.D)\n",
    "        self.DC = Line(self.D, self.C)\n",
    "        \n",
    "        self.AE = Line(self.A, self.E)\n",
    "        self.BF = Line(self.B, self.F)\n",
    "        self.CG = Line(self.C, self.G)\n",
    "        self.DH = Line(self.D, self.H)\n",
    "        \n",
    "        self.EF = Line(self.E, self.F)\n",
    "        self.EH = Line(self.E, self.H)\n",
    "        self.FG = Line(self.F, self.G)\n",
    "        self.HG = Line(self.H, self.G)\n",
    "        \n",
    "        self.iterable_edges = [self.AB, self.BC, self.AD, self.DC, self.AE, self.BF,\n",
    "                               self.CG, self.DH, self.EF, self.EH, self.FG, self.HG]\n",
    "        \n",
    "        \n",
    "        \n",
    "    def intersection_with_plane(self, plane):\n",
    "        boundaries = self.iterable_edges\n",
    "\n",
    "        intersections = filter(None, map(lambda edge: intersection(edge, plane), boundaries))\n",
    "        intersections = filter(lambda x: not isinstance(x, Line), intersections)\n",
    "        intersections = list(set(intersections))\n",
    "\n",
    "        # Filter out any out of bounds intersections\n",
    "        def in_bounds(point):\n",
    "            # intersect is actually (num, point)\n",
    "            return (\n",
    "                # <3 Python's comparison operator\n",
    "                self.A.x <= point.x <= self.G.x and\n",
    "                self.A.y <= point.y <= self.G.y and\n",
    "                self.A.z <= point.z <= self.G.z\n",
    "            )\n",
    "        intersections = list(filter(in_bounds, intersections))\n",
    "        \n",
    "        \n",
    "        if intersections:\n",
    "            polygon = [intersections.pop()]\n",
    "            while intersections:\n",
    "                last = polygon[-1]\n",
    "                distances = [distance(last, x) for x in intersections]\n",
    "                # We're only interested in the index of the next point,\n",
    "                # this min function returns the minimum (index, distance)\n",
    "                # tuple...\n",
    "                successor = min(enumerate(distances), key=lambda x: x[1])\n",
    "                # ...but we only need the index :)\n",
    "                successor = successor[0]\n",
    "                polygon.append(intersections.pop(successor))\n",
    "\n",
    "            return polygon\n",
    "        else:\n",
    "            return []"
   ]
  },
  {
   "cell_type": "code",
   "execution_count": 12,
   "id": "88bdeffd",
   "metadata": {},
   "outputs": [],
   "source": [
    "def make_3d_map_generate_random_plane_1(n=9):\n",
    "    cube=Cube(side=n, center=Point(n/2, n/2, n/2))\n",
    "    map_3d = np.zeros((n, n, n))\n",
    "    \n",
    "    M = Point(random(), random(), random())\n",
    "    N = Point(random(), random(), random())\n",
    "    K = Point(random(), random(), random())\n",
    "\n",
    "    plane = Plane(M, N, K)\n",
    "    \n",
    "    #points_intersection = cube.intersection_with_plane(plane)\n",
    "    \n",
    "    for i in range(n):\n",
    "        for j in range(n):\n",
    "            for k in range(n):\n",
    "                cube_n = Cube(side=1, center=Point(i+0.5, j+0.5, k+0.5))\n",
    "                points_intersection = cube_n.intersection_with_plane(plane)\n",
    "                if len(points_intersection) != 0:\n",
    "                    map_3d[i, j, k] = 1\n",
    "                \n",
    "    return map_3d"
   ]
  },
  {
   "cell_type": "code",
   "execution_count": 16,
   "id": "ee713fbe",
   "metadata": {},
   "outputs": [],
   "source": [
    "def generate_3d_map_n_planes(n=9, n_planes=1000):\n",
    "    map_3d = np.zeros((n, n, n))\n",
    "    for i in tqdm(range(n_planes)):\n",
    "        map_3d += make_3d_map_generate_random_plane_1(n=n)\n",
    "    return map_3d"
   ]
  },
  {
   "cell_type": "code",
   "execution_count": 26,
   "id": "2ed255fb",
   "metadata": {},
   "outputs": [
    {
     "name": "stderr",
     "output_type": "stream",
     "text": [
      "100%|██████████████████████████████████████████████████████████████████████████████| 1000/1000 [10:02<00:00,  1.66it/s]\n"
     ]
    }
   ],
   "source": [
    "first_way = generate_3d_map_n_planes(n=9, n_planes=1000)"
   ]
  },
  {
   "cell_type": "code",
   "execution_count": 30,
   "id": "66875a7f",
   "metadata": {},
   "outputs": [
    {
     "data": {
      "image/png": "[encoded data removed]",
      "text/plain": [
       "<Figure size 432x288 with 9 Axes>"
      ]
     },
     "metadata": {
      "needs_background": "light"
     },
     "output_type": "display_data"
    }
   ],
   "source": [
    "fig, axs = plt.subplots(3, 3, constrained_layout=True)\n",
    "\n",
    "for i, ax in enumerate(axs.flat):\n",
    "    ax.imshow(first_way[i])"
   ]
  },
  {
   "cell_type": "code",
   "execution_count": null,
   "id": "69302db2",
   "metadata": {},
   "outputs": [],
   "source": []
  }
 ],
 "metadata": {
  "kernelspec": {
   "display_name": "Python 3",
   "language": "python",
   "name": "python3"
  },
  "language_info": {
   "codemirror_mode": {
    "name": "ipython",
    "version": 3
   },
   "file_extension": ".py",
   "mimetype": "text/x-python",
   "name": "python",
   "nbconvert_exporter": "python",
   "pygments_lexer": "ipython3",
   "version": "3.8.8"
  }
 },
 "nbformat": 4,
 "nbformat_minor": 5
}
