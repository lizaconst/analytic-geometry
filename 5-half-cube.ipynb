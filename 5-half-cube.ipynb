{
 "cells": [
  {
   "cell_type": "code",
   "execution_count": 7,
   "id": "e9854291",
   "metadata": {},
   "outputs": [],
   "source": [
    "import numpy as np\n",
    "from random import random, uniform, randint\n",
    "from matplotlib import pyplot as plt\n",
    "import pandas as pd"
   ]
  },
  {
   "cell_type": "code",
   "execution_count": 4,
   "id": "66565029",
   "metadata": {},
   "outputs": [],
   "source": [
    "a = [0]*100\n",
    "\n",
    "for i in range(1000000):\n",
    "    a[randint(0, 99)]+=1"
   ]
  },
  {
   "cell_type": "code",
   "execution_count": 8,
   "id": "1fbe1d45",
   "metadata": {},
   "outputs": [],
   "source": [
    "from calc import distance, intersection, parallel, angle, orthogonal\n",
    "from draw import draw\n",
    "from line import Line\n",
    "from plane import Plane\n",
    "from point import Point\n",
    "from solver import solve\n",
    "from vector import Vector\n",
    "\n",
    "__all__ = (\n",
    "    \"Line\",\n",
    "    \"Plane\",\n",
    "    \"Point\",\n",
    "    \"Vector\",\n",
    "    \"angle\",\n",
    "    \"distance\",\n",
    "    \"draw\",\n",
    "    \"intersection\",\n",
    "    \"orthogonal\",\n",
    "    \"parallel\",\n",
    "    \"solve\",\n",
    ")"
   ]
  },
  {
   "cell_type": "code",
   "execution_count": 9,
   "id": "e409e358",
   "metadata": {},
   "outputs": [],
   "source": [
    "def get_angles(points):\n",
    "    # вычисление угла\n",
    "    cnt = points\n",
    "    num_points = len(cnt)\n",
    "    angles = []\n",
    "    for i, point in enumerate(cnt):\n",
    "        point1 = cnt[i - 1]\n",
    "        point2 = cnt[i]\n",
    "        point3 = cnt[(i + 1) % num_points]\n",
    "        angles.append(int(Vector(point2, point1).angle(Vector(point2, point3))* 180 / np.pi))\n",
    "\n",
    "    return np.array(angles)"
   ]
  },
  {
   "cell_type": "code",
   "execution_count": 10,
   "id": "37e087da",
   "metadata": {},
   "outputs": [],
   "source": [
    "class Cube():\n",
    "    #куб с вершиной А в нуле координат и заданной длиной ребра, находится в первой полуплоскости для каждй пары осей\n",
    "    def __init__(self, side=1, center=Point(0.5, 0.5, 0.5)):\n",
    "        \n",
    "        \n",
    "        self.side = side\n",
    "        self.center = center\n",
    "        a = side\n",
    "        \n",
    "        vec = Point(center - Point(side/2, side/2, side/2))\n",
    "        \n",
    "        self.A = Point(0, 0, 0) + vec\n",
    "        self.B = Point(a, 0, 0) + vec\n",
    "        self.C = Point(a, a, 0) + vec\n",
    "        self.D = Point(0, a, 0) + vec\n",
    "        self.E = Point(0, 0, a) + vec\n",
    "        self.F = Point(a, 0, a) + vec\n",
    "        self.G = Point(a, a, a) + vec\n",
    "        self.H = Point(0, a, a) + vec\n",
    "        \n",
    "        self.iterable_points = [self.A, self.B, self.C, self.D, self.E, self.F, self.G, self.H]\n",
    "        self.names = ['A', 'B', 'C', 'D', 'E', 'F', 'G', 'H']\n",
    "        \n",
    "        self.AB = Line(self.A, self.B)\n",
    "        self.BC = Line(self.B, self.C)\n",
    "        self.AD = Line(self.A, self.D)\n",
    "        self.DC = Line(self.D, self.C)\n",
    "        \n",
    "        self.AE = Line(self.A, self.E)\n",
    "        self.BF = Line(self.B, self.F)\n",
    "        self.CG = Line(self.C, self.G)\n",
    "        self.DH = Line(self.D, self.H)\n",
    "        \n",
    "        self.EF = Line(self.E, self.F)\n",
    "        self.EH = Line(self.E, self.H)\n",
    "        self.FG = Line(self.F, self.G)\n",
    "        self.HG = Line(self.H, self.G)\n",
    "        \n",
    "        self.iterable_edges = [self.AB, self.BC, self.AD, self.DC, self.AE, self.BF,\n",
    "                               self.CG, self.DH, self.EF, self.EH, self.FG, self.HG]\n",
    "        \n",
    "        \n",
    "        \n",
    "    def intersection_with_plane(self, plane):\n",
    "        boundaries = self.iterable_edges\n",
    "\n",
    "        intersections = filter(None, map(lambda edge: intersection(edge, plane), boundaries))\n",
    "        intersections = filter(lambda x: not isinstance(x, Line), intersections)\n",
    "        intersections = list(set(intersections))\n",
    "\n",
    "        # Filter out any out of bounds intersections\n",
    "        def in_bounds(point):\n",
    "            # intersect is actually (num, point)\n",
    "            return (\n",
    "                # <3 Python's comparison operator\n",
    "                self.A.x <= point.x <= self.G.x and\n",
    "                self.A.y <= point.y <= self.G.y and\n",
    "                self.A.z <= point.z <= self.G.z\n",
    "            )\n",
    "        intersections = list(filter(in_bounds, intersections))\n",
    "        \n",
    "        \n",
    "        if intersections:\n",
    "            polygon = [intersections.pop()]\n",
    "            while intersections:\n",
    "                last = polygon[-1]\n",
    "                distances = [distance(last, x) for x in intersections]\n",
    "                # We're only interested in the index of the next point,\n",
    "                # this min function returns the minimum (index, distance)\n",
    "                # tuple...\n",
    "                successor = min(enumerate(distances), key=lambda x: x[1])\n",
    "                # ...but we only need the index :)\n",
    "                successor = successor[0]\n",
    "                polygon.append(intersections.pop(successor))\n",
    "\n",
    "            return polygon\n",
    "        else:\n",
    "            return []"
   ]
  },
  {
   "cell_type": "code",
   "execution_count": 32,
   "id": "fcb6319a",
   "metadata": {},
   "outputs": [],
   "source": [
    "class CubeHalf():\n",
    "    #половина куб с вершиной А в нуле координат и заданной длиной ребра, находится в первой полуплоскости для каждй пары осей\n",
    "    def __init__(self):\n",
    "        \n",
    "        side=1\n",
    "        center=Point(0.5, 0.5, 0.5)\n",
    "        self.side = side\n",
    "        self.center = center\n",
    "        a = side\n",
    "        \n",
    "        vec = Point(center - Point(side/2, side/2, side/2))\n",
    "        \n",
    "        self.A = Point(0, 0, 0) + vec\n",
    "        self.B = Point(a, 0, 0) + vec\n",
    "        self.C = Point(0, a, 0) + vec\n",
    "        self.D = Point(0, 0, a) + vec\n",
    "        self.E = Point(a, 0, a) + vec\n",
    "        self.F = Point(0, a, a) + vec\n",
    "        \n",
    "        self.iterable_points = [self.A, self.B, self.C, self.D, self.E, self.F]\n",
    "        self.names = ['A', 'B', 'C', 'D', 'E', 'F']\n",
    "        \n",
    "        self.AB = Line(self.A, self.B)\n",
    "        self.BC = Line(self.B, self.C)\n",
    "        self.AC = Line(self.A, self.C)\n",
    "        \n",
    "        self.AD = Line(self.A, self.D)\n",
    "        self.BE = Line(self.B, self.E)\n",
    "        self.CF = Line(self.C, self.F)\n",
    "        \n",
    "        self.DE = Line(self.D, self.E)\n",
    "        self.DF = Line(self.D, self.F)\n",
    "        self.FE = Line(self.F, self.E)\n",
    "        \n",
    "        self.ABD = Plane(self.A, self.B, self.E)\n",
    "        self.ACD = Plane(self.A, self.C, self.D)\n",
    "        self.CBE = Plane(self.C, self.B, self.E)\n",
    "        \n",
    "        self.ABC = Plane(self.A, self.B, self.C)\n",
    "        self.DEF = Plane(self.D, self.E, self.F)\n",
    "        \n",
    "\n",
    "        \n",
    "        self.iterable_edges = [self.AB, self.BC, self.AC, self.AD, self.BE, self.CF,\n",
    "                               self.DE, self.DF, self.FE]\n",
    "        \n",
    "        self.iterable_facets = [self.ABD, self.ACD, self.CBE, self.ABC, self.DEF]\n",
    "        \n",
    "        \n",
    "        \n",
    "    def intersection_with_plane(self, plane):\n",
    "        boundaries = self.iterable_edges\n",
    "\n",
    "        intersections = filter(None, map(lambda edge: intersection(edge, plane), boundaries))\n",
    "        intersections = filter(lambda x: not isinstance(x, Line), intersections)\n",
    "        intersections = list(set(intersections))\n",
    "\n",
    "        # Filter out any out of bounds intersections\n",
    "        def in_bounds(point):\n",
    "            # intersect is actually (num, point)\n",
    "            return (\n",
    "                self.A.x <= point.x <= self.B.x and\n",
    "                self.A.y <= point.y <= self.C.y and\n",
    "                point.y <= point.x + 1 and\n",
    "                self.A.z <= point.z <= self.D.z\n",
    "            )\n",
    "        intersections = list(filter(in_bounds, intersections))\n",
    "        \n",
    "        \n",
    "        if intersections:\n",
    "            point = intersections[0]\n",
    "            polygon = []\n",
    "            polygon.append(point)\n",
    "            del intersections[0]\n",
    "\n",
    "            while intersections:\n",
    "                for i, p in enumerate(intersections):\n",
    "                    flag = False\n",
    "                    for plane in self.iterable_facets:\n",
    "                        if (p in plane) and (point in plane):\n",
    "                            polygon.append(p)\n",
    "                            del intersections[i]\n",
    "                            point = p\n",
    "                            flag = True\n",
    "                            break\n",
    "                    if flag:\n",
    "                        break\n",
    "            return polygon\n",
    "        else:\n",
    "            return []\n",
    "        \n",
    "#         if intersections:\n",
    "#             polygon = [intersections.pop()]\n",
    "#             while intersections:\n",
    "#                 last = polygon[-1]\n",
    "#                 distances = [distance(last, x) for x in intersections]\n",
    "#                 # We're only interested in the index of the next point,\n",
    "#                 # this min function returns the minimum (index, distance)\n",
    "#                 # tuple...\n",
    "#                 successor = min(enumerate(distances), key=lambda x: x[1])\n",
    "#                 # ...but we only need the index :)\n",
    "#                 successor = successor[0]\n",
    "#                 polygon.append(intersections.pop(successor))\n",
    "\n",
    "#             return polygon\n",
    "#         else:\n",
    "#             return []"
   ]
  },
  {
   "cell_type": "code",
   "execution_count": 33,
   "id": "b15199ae",
   "metadata": {},
   "outputs": [],
   "source": [
    "def make_random_plane(n=1):\n",
    "    #в кубе с левой нижней вершиной 0,0,0 а правой верхней n,n,n\n",
    "    center = Point(n/2, n/2, n/2)\n",
    "    cube = Cube(side=n, center=center)\n",
    "    #генерируем два угла k1 и k2\n",
    "    k1, k2 = np.tan(uniform(0, np.pi)), np.tan(uniform(0, np.pi))\n",
    "    #рассматриваем случаи\n",
    "    if k1 >= 0:\n",
    "        xm = 0\n",
    "        ym = 0\n",
    "    else:\n",
    "        xm = n\n",
    "        ym = n\n",
    "        k1 = -k1\n",
    "    m1 = n/2-2**(0.5)/2*n*k1\n",
    "    v1 = Vector(center, Point(xm, ym, m1))\n",
    "    \n",
    "    if k2 >= 0:\n",
    "        xn = 0\n",
    "        yn = n\n",
    "    else:\n",
    "        xn = n\n",
    "        yn = 0\n",
    "        k2 = -k2\n",
    "    m2 = n/2-2**(0.5)/2*n*k2\n",
    "    v2 = Vector(center, Point(xn, yn, m2))\n",
    "    \n",
    "    #m1 и m2 - потенциальные минимумы\n",
    "    \n",
    "    if m1 <= m2:\n",
    "        x = xm\n",
    "        y = ym\n",
    "        m = m1\n",
    "    else:\n",
    "        x = xn\n",
    "        y = yn\n",
    "        m = m2\n",
    "    \n",
    "    #генерируем \"сдвиг\"\n",
    "    z = uniform(2*m - n, n)\n",
    "    #возвращаем плоскость по точке и двум векторам\n",
    "    return Plane(Point(x, y, z), v1, v2)"
   ]
  },
  {
   "cell_type": "code",
   "execution_count": 34,
   "id": "a527d6e6",
   "metadata": {},
   "outputs": [],
   "source": [
    "def generate_random_plane_angles(cube=CubeHalf()):\n",
    "    \n",
    "    plane = make_random_plane(n=1)\n",
    "    points_intersection = cube.intersection_with_plane(plane)\n",
    "    if len(points_intersection) != 0:\n",
    "        return get_angles(points_intersection)\n",
    "    else:\n",
    "        return []"
   ]
  },
  {
   "cell_type": "code",
   "execution_count": 35,
   "id": "d463b819",
   "metadata": {},
   "outputs": [],
   "source": [
    "def generates_n_plates(n=1000):\n",
    "    \n",
    "    cube = CubeHalf()\n",
    "    angles = [0]*181\n",
    "    \n",
    "    for i in range(n):\n",
    "        angs = generate_random_plane_angles(cube=cube)\n",
    "        if len(angs) != 0:\n",
    "            for ang in angs:\n",
    "                angles[ang] += 1\n",
    "    \n",
    "    return list(np.array(angles)/np.sum(angles))"
   ]
  },
  {
   "cell_type": "code",
   "execution_count": 36,
   "id": "9f39d339",
   "metadata": {},
   "outputs": [],
   "source": [
    "def generate_vertex_distribution(n=1000):\n",
    "    cube = CubeHalf()\n",
    "    \n",
    "    vertex = [0]*7\n",
    "    for i in range(n):\n",
    "        angs = generate_random_plane_angles(cube)\n",
    "        vertex[len(angs)] += 1\n",
    "    \n",
    "    return vertex    "
   ]
  },
  {
   "cell_type": "code",
   "execution_count": 16,
   "id": "6f469aed",
   "metadata": {},
   "outputs": [
    {
     "ename": "KeyboardInterrupt",
     "evalue": "",
     "output_type": "error",
     "traceback": [
      "\u001b[1;31m---------------------------------------------------------------------------\u001b[0m",
      "\u001b[1;31mKeyboardInterrupt\u001b[0m                         Traceback (most recent call last)",
      "\u001b[1;32m<ipython-input-16-ba431617ce46>\u001b[0m in \u001b[0;36m<module>\u001b[1;34m\u001b[0m\n\u001b[1;32m----> 1\u001b[1;33m \u001b[0mdistr\u001b[0m \u001b[1;33m=\u001b[0m \u001b[0mgenerates_n_plates\u001b[0m\u001b[1;33m(\u001b[0m\u001b[1;36m100000\u001b[0m\u001b[1;33m)\u001b[0m\u001b[1;33m\u001b[0m\u001b[1;33m\u001b[0m\u001b[0m\n\u001b[0m\u001b[0;32m      2\u001b[0m \u001b[1;33m\u001b[0m\u001b[0m\n\u001b[0;32m      3\u001b[0m \u001b[0mprint\u001b[0m\u001b[1;33m(\u001b[0m\u001b[0mnp\u001b[0m\u001b[1;33m.\u001b[0m\u001b[0marray\u001b[0m\u001b[1;33m(\u001b[0m\u001b[0mdistr\u001b[0m\u001b[1;33m)\u001b[0m\u001b[1;33m.\u001b[0m\u001b[0margmax\u001b[0m\u001b[1;33m(\u001b[0m\u001b[1;33m)\u001b[0m\u001b[1;33m)\u001b[0m\u001b[1;33m\u001b[0m\u001b[1;33m\u001b[0m\u001b[0m\n\u001b[0;32m      4\u001b[0m \u001b[1;33m\u001b[0m\u001b[0m\n\u001b[0;32m      5\u001b[0m \u001b[0mplt\u001b[0m\u001b[1;33m.\u001b[0m\u001b[0mplot\u001b[0m\u001b[1;33m(\u001b[0m\u001b[0mdistr\u001b[0m\u001b[1;33m,\u001b[0m \u001b[1;34m'bo'\u001b[0m\u001b[1;33m)\u001b[0m\u001b[1;33m\u001b[0m\u001b[1;33m\u001b[0m\u001b[0m\n",
      "\u001b[1;32m<ipython-input-8-122fc8ba8aa7>\u001b[0m in \u001b[0;36mgenerates_n_plates\u001b[1;34m(n)\u001b[0m\n\u001b[0;32m      5\u001b[0m \u001b[1;33m\u001b[0m\u001b[0m\n\u001b[0;32m      6\u001b[0m     \u001b[1;32mfor\u001b[0m \u001b[0mi\u001b[0m \u001b[1;32min\u001b[0m \u001b[0mrange\u001b[0m\u001b[1;33m(\u001b[0m\u001b[0mn\u001b[0m\u001b[1;33m)\u001b[0m\u001b[1;33m:\u001b[0m\u001b[1;33m\u001b[0m\u001b[1;33m\u001b[0m\u001b[0m\n\u001b[1;32m----> 7\u001b[1;33m         \u001b[0mangs\u001b[0m \u001b[1;33m=\u001b[0m \u001b[0mgenerate_random_plane_angles\u001b[0m\u001b[1;33m(\u001b[0m\u001b[0mcube\u001b[0m\u001b[1;33m=\u001b[0m\u001b[0mcube\u001b[0m\u001b[1;33m)\u001b[0m\u001b[1;33m\u001b[0m\u001b[1;33m\u001b[0m\u001b[0m\n\u001b[0m\u001b[0;32m      8\u001b[0m         \u001b[1;32mif\u001b[0m \u001b[0mlen\u001b[0m\u001b[1;33m(\u001b[0m\u001b[0mangs\u001b[0m\u001b[1;33m)\u001b[0m \u001b[1;33m!=\u001b[0m \u001b[1;36m0\u001b[0m\u001b[1;33m:\u001b[0m\u001b[1;33m\u001b[0m\u001b[1;33m\u001b[0m\u001b[0m\n\u001b[0;32m      9\u001b[0m             \u001b[1;32mfor\u001b[0m \u001b[0mang\u001b[0m \u001b[1;32min\u001b[0m \u001b[0mangs\u001b[0m\u001b[1;33m:\u001b[0m\u001b[1;33m\u001b[0m\u001b[1;33m\u001b[0m\u001b[0m\n",
      "\u001b[1;32m<ipython-input-7-6dd8a80af2b4>\u001b[0m in \u001b[0;36mgenerate_random_plane_angles\u001b[1;34m(cube)\u001b[0m\n\u001b[0;32m      1\u001b[0m \u001b[1;32mdef\u001b[0m \u001b[0mgenerate_random_plane_angles\u001b[0m\u001b[1;33m(\u001b[0m\u001b[0mcube\u001b[0m\u001b[1;33m=\u001b[0m\u001b[0mCubeHalf\u001b[0m\u001b[1;33m(\u001b[0m\u001b[1;33m)\u001b[0m\u001b[1;33m)\u001b[0m\u001b[1;33m:\u001b[0m\u001b[1;33m\u001b[0m\u001b[1;33m\u001b[0m\u001b[0m\n\u001b[0;32m      2\u001b[0m \u001b[1;33m\u001b[0m\u001b[0m\n\u001b[1;32m----> 3\u001b[1;33m     \u001b[0mplane\u001b[0m \u001b[1;33m=\u001b[0m \u001b[0mmake_random_plane\u001b[0m\u001b[1;33m(\u001b[0m\u001b[0mn\u001b[0m\u001b[1;33m=\u001b[0m\u001b[1;36m1\u001b[0m\u001b[1;33m)\u001b[0m\u001b[1;33m\u001b[0m\u001b[1;33m\u001b[0m\u001b[0m\n\u001b[0m\u001b[0;32m      4\u001b[0m     \u001b[0mpoints_intersection\u001b[0m \u001b[1;33m=\u001b[0m \u001b[0mcube\u001b[0m\u001b[1;33m.\u001b[0m\u001b[0mintersection_with_plane\u001b[0m\u001b[1;33m(\u001b[0m\u001b[0mplane\u001b[0m\u001b[1;33m)\u001b[0m\u001b[1;33m\u001b[0m\u001b[1;33m\u001b[0m\u001b[0m\n\u001b[0;32m      5\u001b[0m     \u001b[1;32mif\u001b[0m \u001b[0mlen\u001b[0m\u001b[1;33m(\u001b[0m\u001b[0mpoints_intersection\u001b[0m\u001b[1;33m)\u001b[0m \u001b[1;33m!=\u001b[0m \u001b[1;36m0\u001b[0m\u001b[1;33m:\u001b[0m\u001b[1;33m\u001b[0m\u001b[1;33m\u001b[0m\u001b[0m\n",
      "\u001b[1;32m<ipython-input-6-5b1000e3adf0>\u001b[0m in \u001b[0;36mmake_random_plane\u001b[1;34m(n)\u001b[0m\n\u001b[0;32m     40\u001b[0m     \u001b[0mz\u001b[0m \u001b[1;33m=\u001b[0m \u001b[0muniform\u001b[0m\u001b[1;33m(\u001b[0m\u001b[1;36m2\u001b[0m\u001b[1;33m*\u001b[0m\u001b[0mm\u001b[0m \u001b[1;33m-\u001b[0m \u001b[0mn\u001b[0m\u001b[1;33m,\u001b[0m \u001b[0mn\u001b[0m\u001b[1;33m)\u001b[0m\u001b[1;33m\u001b[0m\u001b[1;33m\u001b[0m\u001b[0m\n\u001b[0;32m     41\u001b[0m     \u001b[1;31m#возвращаем плоскость по точке и двум векторам\u001b[0m\u001b[1;33m\u001b[0m\u001b[1;33m\u001b[0m\u001b[1;33m\u001b[0m\u001b[0m\n\u001b[1;32m---> 42\u001b[1;33m     \u001b[1;32mreturn\u001b[0m \u001b[0mPlane\u001b[0m\u001b[1;33m(\u001b[0m\u001b[0mPoint\u001b[0m\u001b[1;33m(\u001b[0m\u001b[0mx\u001b[0m\u001b[1;33m,\u001b[0m \u001b[0my\u001b[0m\u001b[1;33m,\u001b[0m \u001b[0mz\u001b[0m\u001b[1;33m)\u001b[0m\u001b[1;33m,\u001b[0m \u001b[0mv1\u001b[0m\u001b[1;33m,\u001b[0m \u001b[0mv2\u001b[0m\u001b[1;33m)\u001b[0m\u001b[1;33m\u001b[0m\u001b[1;33m\u001b[0m\u001b[0m\n\u001b[0m",
      "\u001b[1;32m~\\Desktop\\analytic_geometry\\point.py\u001b[0m in \u001b[0;36m__init__\u001b[1;34m(self, *args)\u001b[0m\n\u001b[0;32m     27\u001b[0m             raise TypeError(\"Point() takes one or three arguments, not {}\"\n\u001b[0;32m     28\u001b[0m                     .format(len(args)))\n\u001b[1;32m---> 29\u001b[1;33m         \u001b[0mself\u001b[0m\u001b[1;33m.\u001b[0m\u001b[0mx\u001b[0m\u001b[1;33m,\u001b[0m \u001b[0mself\u001b[0m\u001b[1;33m.\u001b[0m\u001b[0my\u001b[0m\u001b[1;33m,\u001b[0m \u001b[0mself\u001b[0m\u001b[1;33m.\u001b[0m\u001b[0mz\u001b[0m \u001b[1;33m=\u001b[0m \u001b[0munify_types\u001b[0m\u001b[1;33m(\u001b[0m\u001b[0mcoords\u001b[0m\u001b[1;33m)\u001b[0m\u001b[1;33m\u001b[0m\u001b[1;33m\u001b[0m\u001b[0m\n\u001b[0m\u001b[0;32m     30\u001b[0m \u001b[1;33m\u001b[0m\u001b[0m\n\u001b[0;32m     31\u001b[0m     \u001b[1;32mdef\u001b[0m \u001b[0m__repr__\u001b[0m\u001b[1;33m(\u001b[0m\u001b[0mself\u001b[0m\u001b[1;33m)\u001b[0m\u001b[1;33m:\u001b[0m\u001b[1;33m\u001b[0m\u001b[1;33m\u001b[0m\u001b[0m\n",
      "\u001b[1;31mKeyboardInterrupt\u001b[0m: "
     ]
    }
   ],
   "source": [
    "distr = generates_n_plates(100000)\n",
    "\n",
    "print(np.array(distr).argmax())\n",
    "\n",
    "plt.plot(distr, 'bo')"
   ]
  },
  {
   "cell_type": "code",
   "execution_count": 17,
   "id": "5e98c158",
   "metadata": {},
   "outputs": [
    {
     "data": {
      "text/plain": [
       "[<matplotlib.lines.Line2D at 0x1604f600c70>]"
      ]
     },
     "execution_count": 17,
     "metadata": {},
     "output_type": "execute_result"
    },
    {
     "data": {
      "image/png": "[encoded data removed]",
      "text/plain": [
       "<Figure size 504x504 with 1 Axes>"
      ]
     },
     "metadata": {
      "needs_background": "light"
     },
     "output_type": "display_data"
    }
   ],
   "source": [
    "plt.figure(figsize=(7,7))\n",
    "plt.plot(generates_n_plates(50000))"
   ]
  },
  {
   "cell_type": "code",
   "execution_count": 40,
   "id": "9bbf9328",
   "metadata": {},
   "outputs": [
    {
     "name": "stdout",
     "output_type": "stream",
     "text": [
      "Wall time: 48 s\n"
     ]
    },
    {
     "data": {
      "text/plain": [
       "[<matplotlib.lines.Line2D at 0x20f276c8070>]"
      ]
     },
     "execution_count": 40,
     "metadata": {},
     "output_type": "execute_result"
    },
    {
     "data": {
      "image/png": "[encoded data removed]",
      "text/plain": [
       "<Figure size 504x504 with 1 Axes>"
      ]
     },
     "metadata": {
      "needs_background": "light"
     },
     "output_type": "display_data"
    }
   ],
   "source": [
    "%%time\n",
    "plt.figure(figsize=(7,7))\n",
    "plt.plot(generates_n_plates(50000))"
   ]
  },
  {
   "cell_type": "code",
   "execution_count": 41,
   "id": "bcc8486c",
   "metadata": {},
   "outputs": [
    {
     "data": {
      "image/png": "[encoded data removed]",
      "text/plain": [
       "<Figure size 504x504 with 1 Axes>"
      ]
     },
     "metadata": {
      "needs_background": "light"
     },
     "output_type": "display_data"
    },
    {
     "name": "stdout",
     "output_type": "stream",
     "text": [
      "Wall time: 1min 32s\n"
     ]
    }
   ],
   "source": [
    "%%time\n",
    "plt.figure(figsize=(7,7))\n",
    "plt.plot(generates_n_plates(100000))\n",
    "plt.show()"
   ]
  },
  {
   "cell_type": "code",
   "execution_count": null,
   "id": "3a10041b",
   "metadata": {},
   "outputs": [],
   "source": []
  },
  {
   "cell_type": "code",
   "execution_count": 26,
   "id": "dbf50bec",
   "metadata": {},
   "outputs": [],
   "source": [
    "def intersections_to_polygon(intersections, figure=CubeHalf()):\n",
    "    '''\n",
    "    функция из точек пересечения сечения с многогранником(в случайном порядке) возвращает \n",
    "    последовательный обход вершин многоугольника\n",
    "    '''\n",
    "    #если нет пересечений\n",
    "    if len(intersections) == 0:\n",
    "        return []\n",
    "    \n",
    "    \n",
    "    point = intersections[0]\n",
    "    polygon = []\n",
    "    polygon.append(point)\n",
    "    del intersections[0]\n",
    "    \n",
    "    while intersections:\n",
    "        for i, p in enumerate(intersections):\n",
    "            flag = False\n",
    "            for plane in figure.iterable_facets:\n",
    "                #проверяем находятся ли две точки в одной плоскости\n",
    "                if (p in plane) and (point in plane):\n",
    "                    polygon.append(p)\n",
    "                    del intersections[i]\n",
    "                    point = p\n",
    "                    flag = True\n",
    "                    break\n",
    "            if flag:\n",
    "                break\n",
    "    return polygon"
   ]
  },
  {
   "cell_type": "code",
   "execution_count": 29,
   "id": "5d26d484",
   "metadata": {},
   "outputs": [],
   "source": [
    "inter = [Point(0.0, 0.6706928709324035, 0.0), Point(0.0, 1.0, 0.0459017048929732), Point(0.13739374113609365, 0.0, 0.0), Point(1.0, 0.0, 0.5869444894620444)]"
   ]
  },
  {
   "cell_type": "code",
   "execution_count": 31,
   "id": "3501b400",
   "metadata": {},
   "outputs": [
    {
     "data": {
      "text/plain": [
       "357"
      ]
     },
     "execution_count": 31,
     "metadata": {},
     "output_type": "execute_result"
    }
   ],
   "source": [
    "inter = [Point(0.0, 0.6706928709324035, 0.0), Point(0.0, 1.0, 0.0459017048929732), Point(0.13739374113609365, 0.0, 0.0), Point(1.0, 0.0, 0.5869444894620444)]\n",
    "get_angles(intersections_to_polygon(inter)).sum()\n"
   ]
  },
  {
   "cell_type": "code",
   "execution_count": null,
   "id": "2bdbd91d",
   "metadata": {},
   "outputs": [],
   "source": [
    "ch = CubeHalf()\n",
    "for i in range(50):\n",
    "    M = Point(random(), random(), random())\n",
    "    N = Point(random(), random(), random())\n",
    "    K = Point(random(), random(), random())\n",
    "    plane = Plane(M, N, K)\n",
    "    get_angles(ch.intersection_with_plane(plane))"
   ]
  },
  {
   "cell_type": "code",
   "execution_count": 9,
   "id": "53240ad7",
   "metadata": {},
   "outputs": [],
   "source": [
    "plane = Plane(Point(1, 0, 0), Point(0, 0, 0.5), Point(0, 1, 1.7))"
   ]
  },
  {
   "cell_type": "code",
   "execution_count": 44,
   "id": "38cf65da",
   "metadata": {},
   "outputs": [
    {
     "name": "stdout",
     "output_type": "stream",
     "text": [
      "3 178 [89 40 49]\n",
      "4 358 [89 90 99 80]\n",
      "5 537 [133  83  96 113 112]\n",
      "3 178 [43 43 92]\n",
      "4 358 [ 87 107  72  92]\n",
      "4 358 [ 92  87 105  74]\n",
      "4 358 [87 92 91 88]\n",
      "3 179 [25 86 68]\n",
      "3 178 [64 16 98]\n",
      "4 358 [ 42  57 155 104]\n",
      "3 179 [87 39 53]\n",
      "4 358 [ 99 101  89  69]\n",
      "4 358 [90 89 92 87]\n",
      "3 179 [51 43 85]\n",
      "3 178 [94 45 39]\n",
      "4 358 [95 92 87 84]\n",
      "5 537 [ 77 142 109 107 102]\n",
      "4 358 [ 66  35  97 160]\n",
      "3 179 [28 63 88]\n",
      "5 538 [121 106  98  81 132]\n",
      "3 178 [46 89 43]\n",
      "3 179 [91 79  9]\n",
      "4 358 [ 86  86  58 128]\n",
      "4 358 [83 86 93 96]\n",
      "4 358 [93 91 88 86]\n",
      "4 358 [103 140  74  41]\n",
      "5 537 [ 86 120 128 110  93]\n",
      "4 359 [131 129  49  50]\n",
      "4 358 [90 89 89 90]\n",
      "4 358 [89 88 91 90]\n",
      "4 358 [ 84  88 118  68]\n",
      "4 358 [90 91 88 89]\n",
      "3 179 [35 48 96]\n",
      "4 357 [ 94 122  49  92]\n",
      "4 358 [90 89 90 89]\n",
      "4 358 [ 40 101 155  62]\n",
      "4 358 [90 90 89 89]\n",
      "4 358 [ 42 104 103 109]\n",
      "5 538 [107 103 105  74 149]\n",
      "4 358 [115  59  64 120]\n",
      "4 358 [ 56 138 116  48]\n",
      "3 178 [88 48 42]\n",
      "4 358 [96 97 82 83]\n",
      "5 537 [104 110 103  76 144]\n",
      "4 358 [97 91 88 82]\n",
      "4 358 [98 92 87 81]\n",
      "3 178 [59 24 95]\n",
      "4 358 [136  87  43  92]\n",
      "3 179 [25 94 60]\n",
      "4 358 [114  95  84  65]\n"
     ]
    }
   ],
   "source": [
    "#проверяю что функция правильно находит многогранники на сумму углов\n",
    "\n",
    "ch = CubeHalf()\n",
    "for i in range(50):\n",
    "    M = Point(random(), random(), random())\n",
    "    N = Point(random(), random(), random())\n",
    "    K = Point(random(), random(), random())\n",
    "    plane = Plane(M, N, K)\n",
    "    print(len(get_angles(ch.intersection_with_plane(plane))), get_angles(ch.intersection_with_plane(plane)).sum(), get_angles(ch.intersection_with_plane(plane)))"
   ]
  },
  {
   "cell_type": "code",
   "execution_count": 45,
   "id": "bfdf0879",
   "metadata": {},
   "outputs": [
    {
     "data": {
      "text/plain": [
       "[130, 0, 0, 354, 433, 83, 0]"
      ]
     },
     "execution_count": 45,
     "metadata": {},
     "output_type": "execute_result"
    }
   ],
   "source": [
    "generate_vertex_distribution()"
   ]
  },
  {
   "cell_type": "code",
   "execution_count": 47,
   "id": "eb80e1b0",
   "metadata": {},
   "outputs": [
    {
     "data": {
      "text/plain": [
       "array([0.40689655, 0.49770115, 0.0954023 ])"
      ]
     },
     "execution_count": 47,
     "metadata": {},
     "output_type": "execute_result"
    }
   ],
   "source": [
    "a = np.array([354, 433, 83])\n",
    "a/sum(a)"
   ]
  },
  {
   "cell_type": "code",
   "execution_count": null,
   "id": "b77a4c71",
   "metadata": {},
   "outputs": [],
   "source": []
  }
 ],
 "metadata": {
  "kernelspec": {
   "display_name": "Python 3",
   "language": "python",
   "name": "python3"
  },
  "language_info": {
   "codemirror_mode": {
    "name": "ipython",
    "version": 3
   },
   "file_extension": ".py",
   "mimetype": "text/x-python",
   "name": "python",
   "nbconvert_exporter": "python",
   "pygments_lexer": "ipython3",
   "version": "3.8.8"
  }
 },
 "nbformat": 4,
 "nbformat_minor": 5
}
