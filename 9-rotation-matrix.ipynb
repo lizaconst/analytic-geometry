{
 "cells": [
  {
   "cell_type": "code",
   "execution_count": 1,
   "id": "f4fe5003",
   "metadata": {},
   "outputs": [],
   "source": [
    "import numpy as np\n",
    "from random import random, uniform, randint\n",
    "from matplotlib import pyplot as plt\n",
    "import pandas as pd\n",
    "\n",
    "\n",
    "from calc import distance, intersection, parallel, angle, orthogonal\n",
    "from draw import draw\n",
    "from line import Line\n",
    "from plane import Plane\n",
    "from point import Point\n",
    "from solver import solve\n",
    "from vector import Vector\n",
    "\n",
    "__all__ = (\n",
    "    \"Line\",\n",
    "    \"Plane\",\n",
    "    \"Point\",\n",
    "    \"Vector\",\n",
    "    \"angle\",\n",
    "    \"distance\",\n",
    "    \"draw\",\n",
    "    \"intersection\",\n",
    "    \"orthogonal\",\n",
    "    \"parallel\",\n",
    "    \"solve\",\n",
    ")"
   ]
  },
  {
   "cell_type": "code",
   "execution_count": 15,
   "id": "76d87f5c",
   "metadata": {},
   "outputs": [
    {
     "data": {
      "text/plain": [
       "Point(0.22018348623853212, -0.5871559633027523, 0.44036697247706424)"
      ]
     },
     "execution_count": 15,
     "metadata": {},
     "output_type": "execute_result"
    }
   ],
   "source": [
    "yy"
   ]
  },
  {
   "cell_type": "code",
   "execution_count": 70,
   "id": "8d677570",
   "metadata": {},
   "outputs": [],
   "source": [
    "\n",
    "def get_rotation_matrix_from_plane_to_oxy(A, B, C):\n",
    "    plane1 = Plane(A, B, C) #плоскость многогранника\n",
    "    plane2 = Plane(Point(0, 0, 0), Vector(0, 0, 1)) #плоскость Oxy\n",
    "    #перенесем плоскость plane1 в начало координат\n",
    "    plane3 = Plane(Point(0, 0, 0), plane1.n)\n",
    "    #перенесем точки в plane3\n",
    "    yy = intersection(plane1, Line(Point(0, 0, 0), plane1.n))\n",
    "    #это координаты параллельного переноса\n",
    "    x_, y_, z_ = yy[0], yy[1], yy[2]\n",
    "    A[0] -= x_\n",
    "    A[1] -= y_\n",
    "    A[2] -= z_\n",
    "    B[0] -= x_\n",
    "    B[1] -= y_\n",
    "    B[2] -= z_\n",
    "    C[0] -= x_\n",
    "    C[1] -= y_\n",
    "    C[2] -= z_\n",
    "\n",
    "    assert A in plane3\n",
    "    assert B in plane3\n",
    "    assert C in plane3\n",
    "\n",
    "    v = plane1.intersection(plane2)\n",
    "    v = v.dv #direction vector\n",
    "    v = v.normalized()\n",
    "    x, y, z = v[0], v[1], v[2]\n",
    "    assert z==0\n",
    "\n",
    "    #угол между векторами нормали к плоскостям\n",
    "    th = np.pi*2 - plane1.n.angle(plane2.n)\n",
    "\n",
    "    #по x, y, z получим матрицу поворота по формуле (*)\n",
    "    M = np.array([[np.cos(th) + (1-np.cos(th))*x*x, (1-np.cos(th))*x*y - np.sin(th)*z, (1-np.cos(th))*x*z + np.sin(th)*y],\n",
    "                  [(1-np.cos(th))*y*x + np.sin(th)*z, np.cos(th) + (1-np.cos(th))*y*y, (1-np.cos(th))*y*z-np.sin(th)*x],\n",
    "                  [(1-np.cos(th))*z*x - np.sin(th)*y, (1-np.cos(th))*z*y + np.sin(th)*x, np.cos(th) + (1-np.cos(th))*z*z]])\n",
    "    \n",
    "    if abs((M@np.array([A[0], A[1], A[2]]))[2]) > 0.0000001:\n",
    "        print(\"here we are\")\n",
    "        th = plane1.n.angle(plane2.n)\n",
    "        M = np.array([[np.cos(th) + (1-np.cos(th))*x*x, (1-np.cos(th))*x*y - np.sin(th)*z, (1-np.cos(th))*x*z + np.sin(th)*y],\n",
    "                  [(1-np.cos(th))*y*x + np.sin(th)*z, np.cos(th) + (1-np.cos(th))*y*y, (1-np.cos(th))*y*z-np.sin(th)*x],\n",
    "                  [(1-np.cos(th))*z*x - np.sin(th)*y, (1-np.cos(th))*z*y + np.sin(th)*x, np.cos(th) + (1-np.cos(th))*z*z]])\n",
    "        \n",
    "    return M"
   ]
  },
  {
   "cell_type": "code",
   "execution_count": 130,
   "id": "c81b9f7b",
   "metadata": {},
   "outputs": [],
   "source": [
    "def rotate_figure(figure):\n",
    "    #проверка на то что это хотя бы треугольник\n",
    "    if len(figure) < 3:\n",
    "        print(\"Not enought points\")\n",
    "        return figure\n",
    "    #проверка на то что в одной плоскости лежат все точки\n",
    "    plane1 = Plane(figure[0], figure[1], figure[2])\n",
    "    for point in figure:\n",
    "        if not(point in plane1):\n",
    "            print(\"Point not in plane\")\n",
    "            return figure\n",
    "    #все ок значик\n",
    "    M = get_rotation_matrix_from_plane_to_oxy(figure[0], figure[1], figure[2])\n",
    "    \n",
    "    figure_ = []\n",
    "    for point in figure:\n",
    "        point_ = M@np.array([point[0], point[1], point[2]])\n",
    "        if point_[2] > 0.0000001:\n",
    "            print(\"here we are, very strange\")\n",
    "            return figure\n",
    "        figure_.append(Point(point_[0], point[1], 0))\n",
    "    return figure_\n",
    "\n",
    "def from_list_points_to_plot(figure, color=None):\n",
    "    if color is None:\n",
    "        color = (random(), random(), random(), random())\n",
    "    for i in range(len(figure)-1):\n",
    "        x = [figure[i][0], figure[i+1][0]]\n",
    "        y = [figure[i][1], figure[i+1][1]]\n",
    "        plt.plot(x, y, color=color)\n",
    "    x = [figure[-1][0], figure[0][0]]\n",
    "    y = [figure[-1][1], figure[0][1]]\n",
    "    plt.plot(x, y, color=color)"
   ]
  },
  {
   "cell_type": "code",
   "execution_count": 157,
   "id": "d28a3dc1",
   "metadata": {},
   "outputs": [
    {
     "name": "stdout",
     "output_type": "stream",
     "text": [
      "24995.0\n",
      "31147.159098085598\n"
     ]
    }
   ],
   "source": [
    "A = Point(-50, 5, 0)\n",
    "B = Point(188, 20, 200)\n",
    "C = Point(30, -200, 100)\n",
    "\n",
    "def S_from_triangle(triangle):\n",
    "    # по точкам треугольника получить площадь\n",
    "    x1 = triangle[0][0]\n",
    "    y1 = triangle[0][1]\n",
    "    x2 = triangle[1][0]\n",
    "    y2 = triangle[1][1]    \n",
    "    x3 = triangle[2][0]\n",
    "    y3 = triangle[2][1]\n",
    "    return 0.5*abs((x2 - x1)*(y3 - y1) - (x3 - x1)*(y2 - y1))\n",
    "\n",
    "print(S_from_triangle(np.array([A, B, C])))\n",
    "print(S_from_triangle(rotate_figure(np.array([A, B, C]))))"
   ]
  },
  {
   "cell_type": "code",
   "execution_count": 138,
   "id": "07dfd243",
   "metadata": {},
   "outputs": [
    {
     "name": "stdout",
     "output_type": "stream",
     "text": [
      "here we are\n"
     ]
    },
    {
     "data": {
      "text/plain": [
       "4.687511501684673"
      ]
     },
     "execution_count": 138,
     "metadata": {},
     "output_type": "execute_result"
    }
   ],
   "source": [
    "S_from_triangle(rotate_figure(np.array([A, B, C])))"
   ]
  },
  {
   "cell_type": "code",
   "execution_count": 139,
   "id": "5fab93ac",
   "metadata": {},
   "outputs": [
    {
     "name": "stdout",
     "output_type": "stream",
     "text": [
      "here we are\n"
     ]
    },
    {
     "data": {
      "text/plain": [
       "[Point(-3.291883388842985, 3.8876404494382024, 0.0),\n",
       " Point(1.1247679422441186, -0.1123595505617978, 0.0),\n",
       " Point(-1.218987808598218, -0.1123595505617978, 0.0)]"
      ]
     },
     "execution_count": 139,
     "metadata": {},
     "output_type": "execute_result"
    }
   ],
   "source": [
    "rotate_figure(np.array([A, B, C]))"
   ]
  },
  {
   "cell_type": "code",
   "execution_count": null,
   "id": "2d7c1b3e",
   "metadata": {},
   "outputs": [],
   "source": []
  },
  {
   "cell_type": "code",
   "execution_count": 136,
   "id": "b04be219",
   "metadata": {},
   "outputs": [
    {
     "name": "stdout",
     "output_type": "stream",
     "text": [
      "here we are\n"
     ]
    },
    {
     "data": {
      "image/png": "[encoded data removed]",
      "text/plain": [
       "<Figure size 432x288 with 1 Axes>"
      ]
     },
     "metadata": {
      "needs_background": "light"
     },
     "output_type": "display_data"
    }
   ],
   "source": [
    "A = Point(1, 2, -10)\n",
    "B = Point(1, -2, -2)\n",
    "C = Point(-3, -2, 1)\n",
    "\n",
    "from_list_points_to_plot(rotate_figure(np.array([A, B, C])))"
   ]
  },
  {
   "cell_type": "code",
   "execution_count": 89,
   "id": "bf7d7b33",
   "metadata": {},
   "outputs": [
    {
     "data": {
      "text/plain": [
       "[Point(8.742640687119284, -4.5, 0.0),\n",
       " Point(4.32842712474619, -1.5, 0.0),\n",
       " Point(-9.035533905932736, 5.5, 0.0)]"
      ]
     },
     "execution_count": 89,
     "metadata": {},
     "output_type": "execute_result"
    }
   ],
   "source": [
    "rotate_figure(np.array([A, B, C]))"
   ]
  },
  {
   "cell_type": "code",
   "execution_count": 81,
   "id": "6eb95116",
   "metadata": {},
   "outputs": [],
   "source": [
    "A = Point(1, 2, -6)\n",
    "B = Point(1, -2, -4)\n",
    "C = Point(-6, 5, 5)\n",
    "\n",
    "M = get_rotation_matrix_from_plane_to_oxy(A, B, C)"
   ]
  },
  {
   "cell_type": "code",
   "execution_count": 82,
   "id": "534b3431",
   "metadata": {},
   "outputs": [
    {
     "data": {
      "text/plain": [
       "array([Point(4.5, -4.5, -6.0), Point(1.5, -1.5, -4.0),\n",
       "       Point(-5.5, 5.5, 5.0)], dtype=object)"
      ]
     },
     "execution_count": 82,
     "metadata": {},
     "output_type": "execute_result"
    }
   ],
   "source": [
    "np.array([A, B, C])"
   ]
  },
  {
   "cell_type": "code",
   "execution_count": 83,
   "id": "272a5b84",
   "metadata": {},
   "outputs": [
    {
     "data": {
      "text/plain": [
       "array([ 8.74264069e+00, -2.57359313e-01,  1.10218212e-15])"
      ]
     },
     "execution_count": 83,
     "metadata": {},
     "output_type": "execute_result"
    }
   ],
   "source": [
    "M@np.array([A[0], A[1], A[2]])"
   ]
  },
  {
   "cell_type": "code",
   "execution_count": 84,
   "id": "74f020dd",
   "metadata": {},
   "outputs": [
    {
     "data": {
      "text/plain": [
       "array([4.32842712e+00, 1.32842712e+00, 7.34788079e-16])"
      ]
     },
     "execution_count": 84,
     "metadata": {},
     "output_type": "execute_result"
    }
   ],
   "source": [
    "M@np.array([B[0], B[1], B[2]])"
   ]
  },
  {
   "cell_type": "code",
   "execution_count": 85,
   "id": "caf92b9e",
   "metadata": {},
   "outputs": [
    {
     "data": {
      "text/plain": [
       "array([-9.03553391e+00,  1.96446609e+00, -9.18485099e-16])"
      ]
     },
     "execution_count": 85,
     "metadata": {},
     "output_type": "execute_result"
    }
   ],
   "source": [
    "M@np.array([C[0], C[1], C[2]])"
   ]
  },
  {
   "cell_type": "code",
   "execution_count": 18,
   "id": "950437c7",
   "metadata": {},
   "outputs": [
    {
     "data": {
      "text/plain": [
       "Plane(Point(3.779816513761468, 5.587155963302752, 5.559633027522936), Vector(3, -8, 6))"
      ]
     },
     "execution_count": 18,
     "metadata": {},
     "output_type": "execute_result"
    }
   ],
   "source": [
    "plane1"
   ]
  },
  {
   "cell_type": "code",
   "execution_count": 19,
   "id": "6cbd8517",
   "metadata": {},
   "outputs": [
    {
     "data": {
      "text/plain": [
       "Plane(Point(0, 0, 0), Vector(3, -8, 6))"
      ]
     },
     "execution_count": 19,
     "metadata": {},
     "output_type": "execute_result"
    }
   ],
   "source": [
    "plane3"
   ]
  },
  {
   "cell_type": "code",
   "execution_count": 21,
   "id": "62140abf",
   "metadata": {},
   "outputs": [
    {
     "data": {
      "text/plain": [
       "True"
      ]
     },
     "execution_count": 21,
     "metadata": {},
     "output_type": "execute_result"
    }
   ],
   "source": [
    "A in plane3"
   ]
  },
  {
   "cell_type": "code",
   "execution_count": 13,
   "id": "8dc39023",
   "metadata": {},
   "outputs": [
    {
     "ename": "ValueError",
     "evalue": "Expected 2 values, got 1",
     "output_type": "error",
     "traceback": [
      "\u001b[1;31m---------------------------------------------------------------------------\u001b[0m",
      "\u001b[1;31mValueError\u001b[0m                                Traceback (most recent call last)",
      "\u001b[1;32m<ipython-input-13-48b139534a6d>\u001b[0m in \u001b[0;36m<module>\u001b[1;34m\u001b[0m\n\u001b[1;32m----> 1\u001b[1;33m \u001b[0mplane1\u001b[0m\u001b[1;33m.\u001b[0m\u001b[0mintersection\u001b[0m\u001b[1;33m(\u001b[0m\u001b[0mplane3\u001b[0m\u001b[1;33m)\u001b[0m\u001b[1;33m\u001b[0m\u001b[1;33m\u001b[0m\u001b[0m\n\u001b[0m",
      "\u001b[1;32m~\\Desktop\\analytic_geometry\\body.py\u001b[0m in \u001b[0;36mintersection\u001b[1;34m(self, other)\u001b[0m\n\u001b[0;32m     10\u001b[0m     \u001b[1;32mdef\u001b[0m \u001b[0mintersection\u001b[0m\u001b[1;33m(\u001b[0m\u001b[0mself\u001b[0m\u001b[1;33m,\u001b[0m \u001b[0mother\u001b[0m\u001b[1;33m)\u001b[0m\u001b[1;33m:\u001b[0m\u001b[1;33m\u001b[0m\u001b[1;33m\u001b[0m\u001b[0m\n\u001b[0;32m     11\u001b[0m         \u001b[1;32mfrom\u001b[0m \u001b[0mcalc\u001b[0m \u001b[1;32mimport\u001b[0m \u001b[0mintersection\u001b[0m\u001b[1;33m\u001b[0m\u001b[1;33m\u001b[0m\u001b[0m\n\u001b[1;32m---> 12\u001b[1;33m         \u001b[1;32mreturn\u001b[0m \u001b[0mintersection\u001b[0m\u001b[1;33m(\u001b[0m\u001b[0mself\u001b[0m\u001b[1;33m,\u001b[0m \u001b[0mother\u001b[0m\u001b[1;33m)\u001b[0m\u001b[1;33m\u001b[0m\u001b[1;33m\u001b[0m\u001b[0m\n\u001b[0m\u001b[0;32m     13\u001b[0m \u001b[1;33m\u001b[0m\u001b[0m\n\u001b[0;32m     14\u001b[0m     \u001b[1;32mdef\u001b[0m \u001b[0mdistance\u001b[0m\u001b[1;33m(\u001b[0m\u001b[0mself\u001b[0m\u001b[1;33m,\u001b[0m \u001b[0mother\u001b[0m\u001b[1;33m)\u001b[0m\u001b[1;33m:\u001b[0m\u001b[1;33m\u001b[0m\u001b[1;33m\u001b[0m\u001b[0m\n",
      "\u001b[1;32m~\\Desktop\\analytic_geometry\\calc.py\u001b[0m in \u001b[0;36mintersection\u001b[1;34m(a, b)\u001b[0m\n\u001b[0;32m     79\u001b[0m             \u001b[1;32mreturn\u001b[0m \u001b[1;32mNone\u001b[0m\u001b[1;33m\u001b[0m\u001b[1;33m\u001b[0m\u001b[0m\n\u001b[0;32m     80\u001b[0m         \u001b[1;31m# Choose two arbitrary points/solutions\u001b[0m\u001b[1;33m\u001b[0m\u001b[1;33m\u001b[0m\u001b[1;33m\u001b[0m\u001b[0m\n\u001b[1;32m---> 81\u001b[1;33m         \u001b[0mp1\u001b[0m\u001b[1;33m,\u001b[0m \u001b[0mp2\u001b[0m \u001b[1;33m=\u001b[0m \u001b[0mPoint\u001b[0m\u001b[1;33m(\u001b[0m\u001b[0msolution\u001b[0m\u001b[1;33m(\u001b[0m\u001b[1;36m1\u001b[0m\u001b[1;33m)\u001b[0m\u001b[1;33m)\u001b[0m\u001b[1;33m,\u001b[0m \u001b[0mPoint\u001b[0m\u001b[1;33m(\u001b[0m\u001b[0msolution\u001b[0m\u001b[1;33m(\u001b[0m\u001b[1;36m2\u001b[0m\u001b[1;33m)\u001b[0m\u001b[1;33m)\u001b[0m\u001b[1;33m\u001b[0m\u001b[1;33m\u001b[0m\u001b[0m\n\u001b[0m\u001b[0;32m     82\u001b[0m         \u001b[1;32mreturn\u001b[0m \u001b[0mLine\u001b[0m\u001b[1;33m(\u001b[0m\u001b[0mp1\u001b[0m\u001b[1;33m.\u001b[0m\u001b[0mpv\u001b[0m\u001b[1;33m(\u001b[0m\u001b[1;33m)\u001b[0m\u001b[1;33m,\u001b[0m \u001b[0mp2\u001b[0m\u001b[1;33m.\u001b[0m\u001b[0mpv\u001b[0m\u001b[1;33m(\u001b[0m\u001b[1;33m)\u001b[0m \u001b[1;33m-\u001b[0m \u001b[0mp1\u001b[0m\u001b[1;33m.\u001b[0m\u001b[0mpv\u001b[0m\u001b[1;33m(\u001b[0m\u001b[1;33m)\u001b[0m\u001b[1;33m)\u001b[0m\u001b[1;33m\u001b[0m\u001b[1;33m\u001b[0m\u001b[0m\n\u001b[0;32m     83\u001b[0m \u001b[1;33m\u001b[0m\u001b[0m\n",
      "\u001b[1;32m~\\Desktop\\analytic_geometry\\solver.py\u001b[0m in \u001b[0;36m__call__\u001b[1;34m(self, *v)\u001b[0m\n\u001b[0;32m     98\u001b[0m             \u001b[1;32mraise\u001b[0m \u001b[0mValueError\u001b[0m\u001b[1;33m(\u001b[0m\u001b[1;34m\"Has no solution\"\u001b[0m\u001b[1;33m)\u001b[0m\u001b[1;33m\u001b[0m\u001b[1;33m\u001b[0m\u001b[0m\n\u001b[0;32m     99\u001b[0m         \u001b[1;32mif\u001b[0m \u001b[0mlen\u001b[0m\u001b[1;33m(\u001b[0m\u001b[0mv\u001b[0m\u001b[1;33m)\u001b[0m \u001b[1;33m!=\u001b[0m \u001b[0mself\u001b[0m\u001b[1;33m.\u001b[0m\u001b[0mvarargs\u001b[0m\u001b[1;33m:\u001b[0m\u001b[1;33m\u001b[0m\u001b[1;33m\u001b[0m\u001b[0m\n\u001b[1;32m--> 100\u001b[1;33m             raise ValueError(\"Expected {} values, got {}\".format(\n\u001b[0m\u001b[0;32m    101\u001b[0m                 self.varargs, len(v)))\n\u001b[0;32m    102\u001b[0m         \u001b[0mv\u001b[0m \u001b[1;33m=\u001b[0m \u001b[0mlist\u001b[0m\u001b[1;33m(\u001b[0m\u001b[0mv\u001b[0m\u001b[1;33m)\u001b[0m\u001b[1;33m\u001b[0m\u001b[1;33m\u001b[0m\u001b[0m\n",
      "\u001b[1;31mValueError\u001b[0m: Expected 2 values, got 1"
     ]
    }
   ],
   "source": [
    "plane1.intersection(plane3)"
   ]
  },
  {
   "cell_type": "code",
   "execution_count": 6,
   "id": "fa04b6a8",
   "metadata": {},
   "outputs": [
    {
     "data": {
      "text/plain": [
       "True"
      ]
     },
     "execution_count": 6,
     "metadata": {},
     "output_type": "execute_result"
    }
   ],
   "source": [
    "A in plane3"
   ]
  },
  {
   "cell_type": "code",
   "execution_count": 74,
   "id": "a2898867",
   "metadata": {},
   "outputs": [
    {
     "data": {
      "text/plain": [
       "array([ 5.96040144, -0.22773718,  6.39019518])"
      ]
     },
     "execution_count": 74,
     "metadata": {},
     "output_type": "execute_result"
    }
   ],
   "source": [
    "M@(np.array([A[0], A[1], A[2]]))"
   ]
  },
  {
   "cell_type": "code",
   "execution_count": 50,
   "id": "9cf9f3be",
   "metadata": {},
   "outputs": [
    {
     "data": {
      "text/plain": [
       "Vector(3, -8, 6)"
      ]
     },
     "execution_count": 50,
     "metadata": {},
     "output_type": "execute_result"
    }
   ],
   "source": [
    "plane1.n"
   ]
  },
  {
   "cell_type": "code",
   "execution_count": 49,
   "id": "22346446",
   "metadata": {},
   "outputs": [
    {
     "data": {
      "text/plain": [
       "Vector(0.9363291775690445, 0.35112344158839165, 0.0)"
      ]
     },
     "execution_count": 49,
     "metadata": {},
     "output_type": "execute_result"
    }
   ],
   "source": [
    "v"
   ]
  },
  {
   "cell_type": "code",
   "execution_count": 43,
   "id": "e2f4801d",
   "metadata": {},
   "outputs": [
    {
     "data": {
      "text/plain": [
       "True"
      ]
     },
     "execution_count": 43,
     "metadata": {},
     "output_type": "execute_result"
    }
   ],
   "source": [
    "A in plane1"
   ]
  },
  {
   "cell_type": "code",
   "execution_count": 48,
   "id": "fb19a0e1",
   "metadata": {},
   "outputs": [
    {
     "data": {
      "text/plain": [
       "Point(0, 2, 4)"
      ]
     },
     "execution_count": 48,
     "metadata": {},
     "output_type": "execute_result"
    }
   ],
   "source": [
    "B"
   ]
  },
  {
   "cell_type": "code",
   "execution_count": 47,
   "id": "2dffd0ea",
   "metadata": {},
   "outputs": [
    {
     "data": {
      "text/plain": [
       "array([ 1.42904364, -1.81078303,  3.83130514])"
      ]
     },
     "execution_count": 47,
     "metadata": {},
     "output_type": "execute_result"
    }
   ],
   "source": [
    "M@np.array([B[0], B[1], B[2]])"
   ]
  },
  {
   "cell_type": "code",
   "execution_count": 20,
   "id": "ec23fa8c",
   "metadata": {},
   "outputs": [
    {
     "data": {
      "text/plain": [
       "Vector(0.9363291775690445, 0.35112344158839165, 0.0)"
      ]
     },
     "execution_count": 20,
     "metadata": {},
     "output_type": "execute_result"
    }
   ],
   "source": [
    "v.dv.normalized()"
   ]
  },
  {
   "cell_type": "code",
   "execution_count": 23,
   "id": "68041767",
   "metadata": {},
   "outputs": [
    {
     "data": {
      "text/plain": [
       "Plane(Point(4, 5, 6), Vector(3, -8, 6))"
      ]
     },
     "execution_count": 23,
     "metadata": {},
     "output_type": "execute_result"
    }
   ],
   "source": [
    "plane1"
   ]
  },
  {
   "cell_type": "code",
   "execution_count": 24,
   "id": "68ecb710",
   "metadata": {},
   "outputs": [
    {
     "data": {
      "text/plain": [
       "Plane(Point(0, 0, 0), Vector(0, 0, 1))"
      ]
     },
     "execution_count": 24,
     "metadata": {},
     "output_type": "execute_result"
    }
   ],
   "source": [
    "plane2"
   ]
  },
  {
   "cell_type": "code",
   "execution_count": 25,
   "id": "02fe61b9",
   "metadata": {},
   "outputs": [
    {
     "data": {
      "text/plain": [
       "Vector(3, -8, 6)"
      ]
     },
     "execution_count": 25,
     "metadata": {},
     "output_type": "execute_result"
    }
   ],
   "source": [
    "plane1.n"
   ]
  },
  {
   "cell_type": "code",
   "execution_count": null,
   "id": "b442d158",
   "metadata": {},
   "outputs": [],
   "source": []
  }
 ],
 "metadata": {
  "kernelspec": {
   "display_name": "Python 3",
   "language": "python",
   "name": "python3"
  },
  "language_info": {
   "codemirror_mode": {
    "name": "ipython",
    "version": 3
   },
   "file_extension": ".py",
   "mimetype": "text/x-python",
   "name": "python",
   "nbconvert_exporter": "python",
   "pygments_lexer": "ipython3",
   "version": "3.8.8"
  }
 },
 "nbformat": 4,
 "nbformat_minor": 5
}
