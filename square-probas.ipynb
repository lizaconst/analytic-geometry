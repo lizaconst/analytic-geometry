{
 "cells": [
  {
   "cell_type": "code",
   "execution_count": 86,
   "id": "ca8734ed",
   "metadata": {},
   "outputs": [],
   "source": [
    "from random import random, uniform\n",
    "from matplotlib import pyplot as plt\n",
    "import numpy as np\n",
    "import math"
   ]
  },
  {
   "cell_type": "markdown",
   "id": "6185e429",
   "metadata": {},
   "source": [
    "итерироваться по линии"
   ]
  },
  {
   "cell_type": "code",
   "execution_count": 87,
   "id": "7ff7111f",
   "metadata": {},
   "outputs": [],
   "source": [
    "def points_to_line(x1, y1, x2, y2):\n",
    "    if x1 != x2:\n",
    "        k = (y2-y1)/(x2-x1)\n",
    "        b = y1-k*x1\n",
    "    return k, b\n",
    "\n",
    "def intersect_line_map(k, b, n=10, n_line=100):\n",
    "    eps = 0.000001\n",
    "    map_2d_now = np.zeros((n, n))\n",
    "    if k>0:\n",
    "        mini = -b/k\n",
    "        maxi = (n - b)/k\n",
    "    elif k<0:\n",
    "        \n",
    "        mini = (n - b)/k\n",
    "        maxi = -b/k\n",
    "\n",
    "    x_iter = np.linspace(max(0, mini), min(maxi, n) - eps, n_line)\n",
    "    for x_n in x_iter:\n",
    "        y_n = k*x_n+b\n",
    "        if 0 <= y_n < n:\n",
    "            i, j = math.floor(x_n), math.floor(y_n)\n",
    "            map_2d_now[i][j] = 1\n",
    "    return map_2d_now\n",
    "\n",
    "def make_2d_map(n=10, n_line=100, num_lines=100):\n",
    "    map_2d = np.zeros((n, n))\n",
    "    for i in range(num_lines):\n",
    "        x1, y1, x2, y2 = uniform(0, n), uniform(0, n), uniform(0, n), uniform(0, n)\n",
    "        k, b = points_to_line(x1, y1, x2, y2)\n",
    "        map_2d += intersect_line_map(k, b, n, n_line)\n",
    "    return map_2d"
   ]
  },
  {
   "cell_type": "code",
   "execution_count": 88,
   "id": "ba1e386f",
   "metadata": {},
   "outputs": [],
   "source": [
    "a = make_2d_map()"
   ]
  },
  {
   "cell_type": "code",
   "execution_count": 89,
   "id": "700917bf",
   "metadata": {},
   "outputs": [
    {
     "data": {
      "text/plain": [
       "<matplotlib.image.AxesImage at 0x251d4623be0>"
      ]
     },
     "execution_count": 89,
     "metadata": {},
     "output_type": "execute_result"
    },
    {
     "data": {
      "image/png": "[encoded data removed]",
      "text/plain": [
       "<Figure size 432x288 with 1 Axes>"
      ]
     },
     "metadata": {
      "needs_background": "light"
     },
     "output_type": "display_data"
    }
   ],
   "source": [
    "plt.imshow(make_2d_map(num_lines=10000))"
   ]
  },
  {
   "cell_type": "code",
   "execution_count": null,
   "id": "771e2fbf",
   "metadata": {},
   "outputs": [],
   "source": []
  }
 ],
 "metadata": {
  "kernelspec": {
   "display_name": "Python 3",
   "language": "python",
   "name": "python3"
  },
  "language_info": {
   "codemirror_mode": {
    "name": "ipython",
    "version": 3
   },
   "file_extension": ".py",
   "mimetype": "text/x-python",
   "name": "python",
   "nbconvert_exporter": "python",
   "pygments_lexer": "ipython3",
   "version": "3.8.8"
  }
 },
 "nbformat": 4,
 "nbformat_minor": 5
}
