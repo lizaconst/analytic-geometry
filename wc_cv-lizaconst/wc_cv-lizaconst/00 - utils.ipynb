{
 "cells": [
  {
   "cell_type": "code",
   "execution_count": 1,
   "metadata": {},
   "outputs": [],
   "source": [
    "import os\n",
    "import numpy as np\n",
    "from matplotlib import cm\n",
    "from PIL import Image\n",
    "from skimage import io\n",
    "from skimage.morphology import disk\n",
    "from skimage import filters\n",
    "from skimage.color import rgb2gray\n",
    "\n",
    "from utils import grainPreprocess, grainShow, grainMark, grainDraw, grainApprox, grainStats\n"
   ]
  },
  {
   "cell_type": "code",
   "execution_count": 4,
   "outputs": [],
   "source": [
    "images_name=os.listdir('data/plots')\n",
    "for name in images_name:\n",
    "    img=io.imread(f'data/plots/{name}')\n",
    "    io.imsave(f'data/plots1/{name}',img)"
   ],
   "metadata": {
    "collapsed": false,
    "pycharm": {
     "name": "#%%\n"
    }
   }
  },
  {
   "cell_type": "code",
   "execution_count": 26,
   "metadata": {},
   "outputs": [],
   "source": [
    "new_folder = 'resized'\n",
    "\n",
    "original_sem_path='original_sem'\n",
    "folders =os.listdir(original_sem_path)\n",
    "folders_path = [original_sem_path+'/'+folder for folder in folders]"
   ]
  },
  {
   "cell_type": "code",
   "execution_count": 34,
   "metadata": {
    "pycharm": {
     "name": "#%%\n"
    }
   },
   "outputs": [
    {
     "name": "stderr",
     "output_type": "stream",
     "text": [
      "<ipython-input-34-ef6ef676121e>:15: UserWarning: resized/Ultra_Co11/Ultra_Co11-0.jpeg is a low contrast image\n",
      "  io.imsave(new_folder + '/' + folder + '/' + name[:-4] + '.jpeg', img)\n",
      "<ipython-input-34-ef6ef676121e>:15: UserWarning: resized/Ultra_Co15/Ultra_Co15-0.jpeg is a low contrast image\n",
      "  io.imsave(new_folder + '/' + folder + '/' + name[:-4] + '.jpeg', img)\n",
      "<ipython-input-34-ef6ef676121e>:15: UserWarning: resized/Ultra_Co25/full_sample_Ultra_Co25-0.jpeg is a low contrast image\n",
      "  io.imsave(new_folder + '/' + folder + '/' + name[:-4] + '.jpeg', img)\n",
      "<ipython-input-34-ef6ef676121e>:15: UserWarning: resized/Ultra_Co25/Ultra_Co25-0.jpeg is a low contrast image\n",
      "  io.imsave(new_folder + '/' + folder + '/' + name[:-4] + '.jpeg', img)\n",
      "<ipython-input-34-ef6ef676121e>:15: UserWarning: resized/Ultra_Co6_2/full_sample_Ultra_Co6_2-0.jpeg is a low contrast image\n",
      "  io.imsave(new_folder + '/' + folder + '/' + name[:-4] + '.jpeg', img)\n",
      "<ipython-input-34-ef6ef676121e>:15: UserWarning: resized/Ultra_Co6_2/Ultra_Co6_2-0.jpeg is a low contrast image\n",
      "  io.imsave(new_folder + '/' + folder + '/' + name[:-4] + '.jpeg', img)\n",
      "<ipython-input-34-ef6ef676121e>:15: UserWarning: resized/Ultra_Co8/Ultra_Co8-0.jpeg is a low contrast image\n",
      "  io.imsave(new_folder + '/' + folder + '/' + name[:-4] + '.jpeg', img)\n"
     ]
    }
   ],
   "source": [
    "\n",
    "\n",
    "if not os.path.exists(new_folder):\n",
    "    os.mkdir(new_folder)\n",
    "\n",
    "for folder in folders:\n",
    "    if not os.path.exists(new_folder+'/'+folder):\n",
    "        os.mkdir(new_folder+'/'+folder)\n",
    "\n",
    "for i,folder in enumerate(folders):\n",
    "    images_names=os.listdir(original_sem_path+'/'+folder)\n",
    "    for i, name in enumerate(images_names):\n",
    "        if 'hdr' not in name:\n",
    "            img = io.imread(original_sem_path+'/'+folder + '/' +name)\n",
    "            img = (img / 256).astype('uint8')\n",
    "            #  new_name=conv(path)\n",
    "            io.imsave(new_folder + '/' + folder + '/' + name[:-4] + '.jpeg', img)\n",
    "\n"
   ]
  }
 ],
 "metadata": {
  "kernelspec": {
   "name": "tf2",
   "language": "python",
   "display_name": "tf2"
  },
  "language_info": {
   "codemirror_mode": {
    "name": "ipython",
    "version": 3
   },
   "file_extension": ".py",
   "mimetype": "text/x-python",
   "name": "python",
   "nbconvert_exporter": "python",
   "pygments_lexer": "ipython3",
   "version": "3.8.11"
  }
 },
 "nbformat": 4,
 "nbformat_minor": 4
}